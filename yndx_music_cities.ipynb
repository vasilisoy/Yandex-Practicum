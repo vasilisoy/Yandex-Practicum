{
 "cells": [
  {
   "cell_type": "markdown",
   "metadata": {
    "deletable": false,
    "editable": false,
    "id": "E0vqbgi9ay0H"
   },
   "source": [
    "# Яндекс.Музыка"
   ]
  },
  {
   "cell_type": "markdown",
   "metadata": {
    "deletable": false,
    "editable": false,
    "id": "VUC88oWjTJw2"
   },
   "source": [
    "Сравнение Москвы и Петербурга окружено мифами. Например:\n",
    " * Москва — мегаполис, подчинённый жёсткому ритму рабочей недели;\n",
    " * Петербург — культурная столица, со своими вкусами.\n",
    "\n",
    "На данных Яндекс.Музыки сравним поведение пользователей двух столиц.\n",
    "\n",
    "**Цель исследования** — проверить три гипотезы:\n",
    "1. Активность пользователей зависит от дня недели. Причём в Москве и Петербурге это проявляется по-разному.\n",
    "2. В понедельник утром в Москве преобладают одни жанры, а в Петербурге — другие. Так же и вечером пятницы преобладают разные жанры — в зависимости от города.\n",
    "3. Москва и Петербург предпочитают разные жанры музыки. В Москве чаще слушают поп-музыку, в Петербурге — русский рэп.\n",
    "\n",
    "**Ход исследования**\n",
    "\n",
    "Данные о поведении пользователей получаем из файла `yandex_music_project.csv`. О качестве данных ничего не известно. Поэтому перед проверкой гипотез понадобится обзор данных.\n",
    "\n",
    "Проверим данные на ошибки и оценим их влияние на исследование. Затем, на этапе предобработки, поищем возможность исправить самые критичные ошибки данных.\n",
    "\n",
    "Таким образом, исследование пройдёт в три этапа:\n",
    " 1. Обзор данных.\n",
    " 2. Предобработка данных.\n",
    " 3. Проверка гипотез."
   ]
  },
  {
   "cell_type": "markdown",
   "metadata": {
    "deletable": false,
    "editable": false,
    "id": "Ml1hmfXC_Zcs"
   },
   "source": [
    "## Обзор данных\n",
    "\n",
    "Составим первое представление о данных Яндекс.Музыки."
   ]
  },
  {
   "cell_type": "markdown",
   "metadata": {
    "deletable": false,
    "editable": false,
    "id": "57eAOGIz_Zcs",
    "tags": [
     "start_task"
    ]
   },
   "source": [
    "**Задание 1**"
   ]
  },
  {
   "cell_type": "code",
   "execution_count": 5,
   "metadata": {
    "deletable": false,
    "id": "AXN7PHPN_Zcs"
   },
   "outputs": [],
   "source": [
    "import pandas as pd"
   ]
  },
  {
   "cell_type": "markdown",
   "metadata": {
    "deletable": false,
    "editable": false,
    "id": "SG23P8tt_Zcs",
    "tags": [
     "start_task"
    ]
   },
   "source": [
    "**Задание 2**"
   ]
  },
  {
   "cell_type": "code",
   "execution_count": 7,
   "metadata": {
    "deletable": false,
    "id": "fFVu7vqh_Zct"
   },
   "outputs": [],
   "source": [
    "try:\n",
    "    df = pd.read_csv('/datasets/yandex_music_project.csv')\n",
    "except:\n",
    "    df = pd.read_csv('yandex_music_project.csv')"
   ]
  },
  {
   "cell_type": "markdown",
   "metadata": {
    "deletable": false,
    "editable": false,
    "id": "rDoOMd3uTqnZ",
    "tags": [
     "start_task"
    ]
   },
   "source": [
    "**Задание 3**"
   ]
  },
  {
   "cell_type": "code",
   "execution_count": 9,
   "metadata": {
    "deletable": false,
    "id": "oWTVX3gW_Zct"
   },
   "outputs": [
    {
     "data": {
      "text/html": [
       "<div>\n",
       "<style scoped>\n",
       "    .dataframe tbody tr th:only-of-type {\n",
       "        vertical-align: middle;\n",
       "    }\n",
       "\n",
       "    .dataframe tbody tr th {\n",
       "        vertical-align: top;\n",
       "    }\n",
       "\n",
       "    .dataframe thead th {\n",
       "        text-align: right;\n",
       "    }\n",
       "</style>\n",
       "<table border=\"1\" class=\"dataframe\">\n",
       "  <thead>\n",
       "    <tr style=\"text-align: right;\">\n",
       "      <th></th>\n",
       "      <th>userID</th>\n",
       "      <th>Track</th>\n",
       "      <th>artist</th>\n",
       "      <th>genre</th>\n",
       "      <th>City</th>\n",
       "      <th>time</th>\n",
       "      <th>Day</th>\n",
       "    </tr>\n",
       "  </thead>\n",
       "  <tbody>\n",
       "    <tr>\n",
       "      <th>0</th>\n",
       "      <td>FFB692EC</td>\n",
       "      <td>Kamigata To Boots</td>\n",
       "      <td>The Mass Missile</td>\n",
       "      <td>rock</td>\n",
       "      <td>Saint-Petersburg</td>\n",
       "      <td>20:28:33</td>\n",
       "      <td>Wednesday</td>\n",
       "    </tr>\n",
       "    <tr>\n",
       "      <th>1</th>\n",
       "      <td>55204538</td>\n",
       "      <td>Delayed Because of Accident</td>\n",
       "      <td>Andreas Rönnberg</td>\n",
       "      <td>rock</td>\n",
       "      <td>Moscow</td>\n",
       "      <td>14:07:09</td>\n",
       "      <td>Friday</td>\n",
       "    </tr>\n",
       "    <tr>\n",
       "      <th>2</th>\n",
       "      <td>20EC38</td>\n",
       "      <td>Funiculì funiculà</td>\n",
       "      <td>Mario Lanza</td>\n",
       "      <td>pop</td>\n",
       "      <td>Saint-Petersburg</td>\n",
       "      <td>20:58:07</td>\n",
       "      <td>Wednesday</td>\n",
       "    </tr>\n",
       "    <tr>\n",
       "      <th>3</th>\n",
       "      <td>A3DD03C9</td>\n",
       "      <td>Dragons in the Sunset</td>\n",
       "      <td>Fire + Ice</td>\n",
       "      <td>folk</td>\n",
       "      <td>Saint-Petersburg</td>\n",
       "      <td>08:37:09</td>\n",
       "      <td>Monday</td>\n",
       "    </tr>\n",
       "    <tr>\n",
       "      <th>4</th>\n",
       "      <td>E2DC1FAE</td>\n",
       "      <td>Soul People</td>\n",
       "      <td>Space Echo</td>\n",
       "      <td>dance</td>\n",
       "      <td>Moscow</td>\n",
       "      <td>08:34:34</td>\n",
       "      <td>Monday</td>\n",
       "    </tr>\n",
       "    <tr>\n",
       "      <th>5</th>\n",
       "      <td>842029A1</td>\n",
       "      <td>Преданная</td>\n",
       "      <td>IMPERVTOR</td>\n",
       "      <td>rusrap</td>\n",
       "      <td>Saint-Petersburg</td>\n",
       "      <td>13:09:41</td>\n",
       "      <td>Friday</td>\n",
       "    </tr>\n",
       "    <tr>\n",
       "      <th>6</th>\n",
       "      <td>4CB90AA5</td>\n",
       "      <td>True</td>\n",
       "      <td>Roman Messer</td>\n",
       "      <td>dance</td>\n",
       "      <td>Moscow</td>\n",
       "      <td>13:00:07</td>\n",
       "      <td>Wednesday</td>\n",
       "    </tr>\n",
       "    <tr>\n",
       "      <th>7</th>\n",
       "      <td>F03E1C1F</td>\n",
       "      <td>Feeling This Way</td>\n",
       "      <td>Polina Griffith</td>\n",
       "      <td>dance</td>\n",
       "      <td>Moscow</td>\n",
       "      <td>20:47:49</td>\n",
       "      <td>Wednesday</td>\n",
       "    </tr>\n",
       "    <tr>\n",
       "      <th>8</th>\n",
       "      <td>8FA1D3BE</td>\n",
       "      <td>И вновь продолжается бой</td>\n",
       "      <td>NaN</td>\n",
       "      <td>ruspop</td>\n",
       "      <td>Moscow</td>\n",
       "      <td>09:17:40</td>\n",
       "      <td>Friday</td>\n",
       "    </tr>\n",
       "    <tr>\n",
       "      <th>9</th>\n",
       "      <td>E772D5C0</td>\n",
       "      <td>Pessimist</td>\n",
       "      <td>NaN</td>\n",
       "      <td>dance</td>\n",
       "      <td>Saint-Petersburg</td>\n",
       "      <td>21:20:49</td>\n",
       "      <td>Wednesday</td>\n",
       "    </tr>\n",
       "  </tbody>\n",
       "</table>\n",
       "</div>"
      ],
      "text/plain": [
       "     userID                        Track            artist   genre  \\\n",
       "0  FFB692EC            Kamigata To Boots  The Mass Missile    rock   \n",
       "1  55204538  Delayed Because of Accident  Andreas Rönnberg    rock   \n",
       "2    20EC38            Funiculì funiculà       Mario Lanza     pop   \n",
       "3  A3DD03C9        Dragons in the Sunset        Fire + Ice    folk   \n",
       "4  E2DC1FAE                  Soul People        Space Echo   dance   \n",
       "5  842029A1                    Преданная         IMPERVTOR  rusrap   \n",
       "6  4CB90AA5                         True      Roman Messer   dance   \n",
       "7  F03E1C1F             Feeling This Way   Polina Griffith   dance   \n",
       "8  8FA1D3BE     И вновь продолжается бой               NaN  ruspop   \n",
       "9  E772D5C0                    Pessimist               NaN   dance   \n",
       "\n",
       "             City        time        Day  \n",
       "0  Saint-Petersburg  20:28:33  Wednesday  \n",
       "1            Moscow  14:07:09     Friday  \n",
       "2  Saint-Petersburg  20:58:07  Wednesday  \n",
       "3  Saint-Petersburg  08:37:09     Monday  \n",
       "4            Moscow  08:34:34     Monday  \n",
       "5  Saint-Petersburg  13:09:41     Friday  \n",
       "6            Moscow  13:00:07  Wednesday  \n",
       "7            Moscow  20:47:49  Wednesday  \n",
       "8            Moscow  09:17:40     Friday  \n",
       "9  Saint-Petersburg  21:20:49  Wednesday  "
      ]
     },
     "execution_count": 9,
     "metadata": {},
     "output_type": "execute_result"
    }
   ],
   "source": [
    "df.head(10) # выводим первые 10 строк "
   ]
  },
  {
   "cell_type": "markdown",
   "metadata": {
    "deletable": false,
    "editable": false,
    "id": "EO73Kwic_Zct",
    "tags": [
     "start_task"
    ]
   },
   "source": [
    "**Задание 4**"
   ]
  },
  {
   "cell_type": "code",
   "execution_count": 11,
   "metadata": {
    "deletable": false,
    "id": "DSf2kIb-_Zct"
   },
   "outputs": [
    {
     "name": "stdout",
     "output_type": "stream",
     "text": [
      "<class 'pandas.core.frame.DataFrame'>\n",
      "RangeIndex: 65079 entries, 0 to 65078\n",
      "Data columns (total 7 columns):\n",
      " #   Column    Non-Null Count  Dtype \n",
      "---  ------    --------------  ----- \n",
      " 0     userID  65079 non-null  object\n",
      " 1   Track     63848 non-null  object\n",
      " 2   artist    57876 non-null  object\n",
      " 3   genre     63881 non-null  object\n",
      " 4     City    65079 non-null  object\n",
      " 5   time      65079 non-null  object\n",
      " 6   Day       65079 non-null  object\n",
      "dtypes: object(7)\n",
      "memory usage: 3.5+ MB\n"
     ]
    }
   ],
   "source": [
    "df.info() # посмотрим количество значений в столбцах"
   ]
  },
  {
   "cell_type": "markdown",
   "metadata": {
    "deletable": false,
    "editable": false,
    "id": "TaQ2Iwbr_Zct"
   },
   "source": [
    "Количество значений в столбцах различается. Значит, в данных есть пропущенные значения."
   ]
  },
  {
   "cell_type": "markdown",
   "metadata": {
    "deletable": false,
    "editable": false,
    "id": "4P0UCWzswgEm",
    "tags": [
     "start_task"
    ]
   },
   "source": [
    "**Задание 5**"
   ]
  },
  {
   "cell_type": "code",
   "execution_count": 14,
   "metadata": {
    "id": "c137-ZstwgEm"
   },
   "outputs": [],
   "source": [
    "# когда имя состоит из нескольких слов, его пишут через знак подчеркивания"
   ]
  },
  {
   "cell_type": "markdown",
   "metadata": {
    "deletable": false,
    "editable": false,
    "id": "MCB6-dXG_Zct"
   },
   "source": [
    "**Выводы**\n",
    "\n",
    "В каждой строке таблицы — данные о прослушанном треке. Часть колонок описывает саму композицию: название, исполнителя и жанр. Остальные данные рассказывают о пользователе: из какого он города, когда он слушал музыку.\n",
    "\n",
    "Предварительно можно утверждать, что данных достаточно для проверки гипотез. Но встречаются пропуски в данных, а в названиях колонок — расхождения с хорошим стилем.\n",
    "\n",
    "Чтобы двигаться дальше, нужно устранить проблемы в данных."
   ]
  },
  {
   "cell_type": "markdown",
   "metadata": {
    "deletable": false,
    "editable": false,
    "id": "SjYF6Ub9_Zct"
   },
   "source": [
    "## Предобработка данных"
   ]
  },
  {
   "cell_type": "markdown",
   "metadata": {
    "deletable": false,
    "editable": false,
    "id": "dIaKXr29_Zct",
    "tags": [
     "start_task"
    ]
   },
   "source": [
    "### Переименование столбцов\n",
    "\n",
    "**Задание 6**"
   ]
  },
  {
   "cell_type": "code",
   "execution_count": 18,
   "metadata": {
    "deletable": false,
    "id": "oKOTdF_Q_Zct"
   },
   "outputs": [
    {
     "data": {
      "text/plain": [
       "Index(['  userID', 'Track', 'artist', 'genre', '  City  ', 'time', 'Day'], dtype='object')"
      ]
     },
     "execution_count": 18,
     "metadata": {},
     "output_type": "execute_result"
    }
   ],
   "source": [
    "df.columns # посмотрим, как записаны названия столбцов"
   ]
  },
  {
   "cell_type": "markdown",
   "metadata": {
    "deletable": false,
    "editable": false,
    "id": "zj5534cv_Zct",
    "tags": [
     "start_task"
    ]
   },
   "source": [
    "**Задание 7**"
   ]
  },
  {
   "cell_type": "code",
   "execution_count": 20,
   "metadata": {
    "deletable": false,
    "id": "ISlFqs5y_Zct",
    "scrolled": true
   },
   "outputs": [],
   "source": [
    "df.rename(columns={'  userID': 'user_id', 'Track': 'track', '  City  ': 'city', 'Day': 'day'}, inplace=True) # переименуем по правилам хорошего тона"
   ]
  },
  {
   "cell_type": "markdown",
   "metadata": {
    "deletable": false,
    "editable": false,
    "id": "1dqbh00J_Zct",
    "tags": [
     "start_task"
    ]
   },
   "source": [
    "**Задание 8**"
   ]
  },
  {
   "cell_type": "code",
   "execution_count": 22,
   "metadata": {
    "deletable": false,
    "id": "d4NOAmTW_Zct"
   },
   "outputs": [
    {
     "data": {
      "text/plain": [
       "Index(['user_id', 'track', 'artist', 'genre', 'city', 'time', 'day'], dtype='object')"
      ]
     },
     "execution_count": 22,
     "metadata": {},
     "output_type": "execute_result"
    }
   ],
   "source": [
    "df.columns # посмотрим, как теперь выглядят столбцы"
   ]
  },
  {
   "cell_type": "markdown",
   "metadata": {
    "deletable": false,
    "editable": false,
    "id": "5ISfbcfY_Zct",
    "tags": [
     "start_task"
    ]
   },
   "source": [
    "### Обработка пропущенных значений\n",
    "\n",
    "**Задание 9**"
   ]
  },
  {
   "cell_type": "code",
   "execution_count": 24,
   "metadata": {
    "deletable": false,
    "id": "RskX29qr_Zct"
   },
   "outputs": [
    {
     "data": {
      "text/plain": [
       "user_id       0\n",
       "track      1231\n",
       "artist     7203\n",
       "genre      1198\n",
       "city          0\n",
       "time          0\n",
       "day           0\n",
       "dtype: int64"
      ]
     },
     "execution_count": 24,
     "metadata": {},
     "output_type": "execute_result"
    }
   ],
   "source": [
    "df.isna().sum() # посчитаем пропущенные значения"
   ]
  },
  {
   "cell_type": "markdown",
   "metadata": {
    "deletable": false,
    "editable": false,
    "id": "fSv2laPA_Zct",
    "tags": [
     "start_task"
    ]
   },
   "source": [
    "**Задание 10**"
   ]
  },
  {
   "cell_type": "code",
   "execution_count": 26,
   "metadata": {
    "deletable": false,
    "id": "KplB5qWs_Zct"
   },
   "outputs": [],
   "source": [
    "columns_to_replace = ['track', 'artist', 'genre']\n",
    "\n",
    "for column in columns_to_replace:\n",
    "    df['track'] = df['track'].fillna('unknown')\n",
    "    df['artist'] = df['artist'].fillna('unknown')\n",
    "    df['genre'] = df['genre'].fillna('unknown')\n",
    "    \n",
    "# заменяем пропущенные значения на строку 'unknown'"
   ]
  },
  {
   "cell_type": "markdown",
   "metadata": {
    "deletable": false,
    "editable": false,
    "id": "Ilsm-MZo_Zct",
    "tags": [
     "start_task"
    ]
   },
   "source": [
    "**Задание 11**"
   ]
  },
  {
   "cell_type": "code",
   "execution_count": 28,
   "metadata": {
    "deletable": false,
    "id": "Tq4nYRX4_Zct"
   },
   "outputs": [
    {
     "data": {
      "text/plain": [
       "user_id    0\n",
       "track      0\n",
       "artist     0\n",
       "genre      0\n",
       "city       0\n",
       "time       0\n",
       "day        0\n",
       "dtype: int64"
      ]
     },
     "execution_count": 28,
     "metadata": {},
     "output_type": "execute_result"
    }
   ],
   "source": [
    "df.isna().sum() # убедимся, что пропусков не осталось"
   ]
  },
  {
   "cell_type": "markdown",
   "metadata": {
    "deletable": false,
    "editable": false,
    "id": "BWKRtBJ3_Zct",
    "tags": [
     "start_task"
    ]
   },
   "source": [
    "### Обработка дубликатов\n",
    "\n",
    "**Задание 12**"
   ]
  },
  {
   "cell_type": "code",
   "execution_count": 30,
   "metadata": {
    "deletable": false,
    "id": "36eES_S0_Zct"
   },
   "outputs": [
    {
     "data": {
      "text/plain": [
       "3826"
      ]
     },
     "execution_count": 30,
     "metadata": {},
     "output_type": "execute_result"
    }
   ],
   "source": [
    "df.duplicated().sum() # считаем явные дубликаты"
   ]
  },
  {
   "cell_type": "markdown",
   "metadata": {
    "deletable": false,
    "editable": false,
    "id": "Ot25h6XR_Zct",
    "tags": [
     "start_task"
    ]
   },
   "source": [
    "**Задание 13**"
   ]
  },
  {
   "cell_type": "code",
   "execution_count": 32,
   "metadata": {
    "deletable": false,
    "id": "exFHq6tt_Zct"
   },
   "outputs": [],
   "source": [
    "df = df.drop_duplicates().reset_index(drop=True) # удаляем явные строки-дубликаты"
   ]
  },
  {
   "cell_type": "markdown",
   "metadata": {
    "deletable": false,
    "editable": false,
    "id": "Im2YwBEG_Zct",
    "tags": [
     "start_task"
    ]
   },
   "source": [
    "**Задание 14**"
   ]
  },
  {
   "cell_type": "code",
   "execution_count": 34,
   "metadata": {
    "deletable": false,
    "id": "-8PuNWQ0_Zct"
   },
   "outputs": [
    {
     "data": {
      "text/plain": [
       "0"
      ]
     },
     "execution_count": 34,
     "metadata": {},
     "output_type": "execute_result"
    }
   ],
   "source": [
    "df.duplicated().sum() # теперь видим, что явных дубликатов не осталось"
   ]
  },
  {
   "cell_type": "markdown",
   "metadata": {
    "deletable": false,
    "editable": false,
    "id": "eSjWwsOh_Zct",
    "tags": [
     "start_task"
    ]
   },
   "source": [
    "**Задание 15**"
   ]
  },
  {
   "cell_type": "code",
   "execution_count": 36,
   "metadata": {
    "deletable": false,
    "id": "JIUcqzZN_Zct"
   },
   "outputs": [
    {
     "data": {
      "text/plain": [
       "array(['acid', 'acoustic', 'action', 'adult', 'africa', 'afrikaans',\n",
       "       'alternative', 'alternativepunk', 'ambient', 'americana',\n",
       "       'animated', 'anime', 'arabesk', 'arabic', 'arena',\n",
       "       'argentinetango', 'art', 'audiobook', 'author', 'avantgarde',\n",
       "       'axé', 'baile', 'balkan', 'beats', 'bigroom', 'black', 'bluegrass',\n",
       "       'blues', 'bollywood', 'bossa', 'brazilian', 'breakbeat', 'breaks',\n",
       "       'broadway', 'cantautori', 'cantopop', 'canzone', 'caribbean',\n",
       "       'caucasian', 'celtic', 'chamber', 'chanson', 'children', 'chill',\n",
       "       'chinese', 'choral', 'christian', 'christmas', 'classical',\n",
       "       'classicmetal', 'club', 'colombian', 'comedy', 'conjazz',\n",
       "       'contemporary', 'country', 'cuban', 'dance', 'dancehall',\n",
       "       'dancepop', 'dark', 'death', 'deep', 'deutschrock', 'deutschspr',\n",
       "       'dirty', 'disco', 'dnb', 'documentary', 'downbeat', 'downtempo',\n",
       "       'drum', 'dub', 'dubstep', 'eastern', 'easy', 'electronic',\n",
       "       'electropop', 'emo', 'entehno', 'epicmetal', 'estrada', 'ethnic',\n",
       "       'eurofolk', 'european', 'experimental', 'extrememetal', 'fado',\n",
       "       'fairytail', 'film', 'fitness', 'flamenco', 'folk', 'folklore',\n",
       "       'folkmetal', 'folkrock', 'folktronica', 'forró', 'frankreich',\n",
       "       'französisch', 'french', 'funk', 'future', 'gangsta', 'garage',\n",
       "       'german', 'ghazal', 'gitarre', 'glitch', 'gospel', 'gothic',\n",
       "       'grime', 'grunge', 'gypsy', 'handsup', \"hard'n'heavy\", 'hardcore',\n",
       "       'hardstyle', 'hardtechno', 'hip', 'hip-hop', 'hiphop',\n",
       "       'historisch', 'holiday', 'hop', 'horror', 'house', 'hymn', 'idm',\n",
       "       'independent', 'indian', 'indie', 'indipop', 'industrial',\n",
       "       'inspirational', 'instrumental', 'international', 'irish', 'jam',\n",
       "       'japanese', 'jazz', 'jewish', 'jpop', 'jungle', 'k-pop',\n",
       "       'karadeniz', 'karaoke', 'kayokyoku', 'korean', 'laiko', 'latin',\n",
       "       'latino', 'leftfield', 'local', 'lounge', 'loungeelectronic',\n",
       "       'lovers', 'malaysian', 'mandopop', 'marschmusik', 'meditative',\n",
       "       'mediterranean', 'melodic', 'metal', 'metalcore', 'mexican',\n",
       "       'middle', 'minimal', 'miscellaneous', 'modern', 'mood', 'mpb',\n",
       "       'muslim', 'native', 'neoklassik', 'neue', 'new', 'newage',\n",
       "       'newwave', 'nu', 'nujazz', 'numetal', 'oceania', 'old', 'opera',\n",
       "       'orchestral', 'other', 'piano', 'podcasts', 'pop', 'popdance',\n",
       "       'popelectronic', 'popeurodance', 'poprussian', 'post',\n",
       "       'posthardcore', 'postrock', 'power', 'progmetal', 'progressive',\n",
       "       'psychedelic', 'punjabi', 'punk', 'quebecois', 'ragga', 'ram',\n",
       "       'rancheras', 'rap', 'rave', 'reggae', 'reggaeton', 'regional',\n",
       "       'relax', 'religious', 'retro', 'rhythm', 'rnb', 'rnr', 'rock',\n",
       "       'rockabilly', 'rockalternative', 'rockindie', 'rockother',\n",
       "       'romance', 'roots', 'ruspop', 'rusrap', 'rusrock', 'russian',\n",
       "       'salsa', 'samba', 'scenic', 'schlager', 'self', 'sertanejo',\n",
       "       'shanson', 'shoegazing', 'showtunes', 'singer', 'ska', 'skarock',\n",
       "       'slow', 'smooth', 'soft', 'soul', 'soulful', 'sound', 'soundtrack',\n",
       "       'southern', 'specialty', 'speech', 'spiritual', 'sport',\n",
       "       'stonerrock', 'surf', 'swing', 'synthpop', 'synthrock',\n",
       "       'sängerportrait', 'tango', 'tanzorchester', 'taraftar', 'tatar',\n",
       "       'tech', 'techno', 'teen', 'thrash', 'top', 'traditional',\n",
       "       'tradjazz', 'trance', 'tribal', 'trip', 'triphop', 'tropical',\n",
       "       'türk', 'türkçe', 'ukrrock', 'unknown', 'urban', 'uzbek',\n",
       "       'variété', 'vi', 'videogame', 'vocal', 'western', 'world',\n",
       "       'worldbeat', 'ïîï', 'электроника'], dtype=object)"
      ]
     },
     "execution_count": 36,
     "metadata": {},
     "output_type": "execute_result"
    }
   ],
   "source": [
    "df['genre'].sort_values().unique() # выводим уникальные названия жанров в алфавитном порядке"
   ]
  },
  {
   "cell_type": "markdown",
   "metadata": {
    "deletable": false,
    "editable": false,
    "id": "qej-Qmuo_Zct",
    "tags": [
     "start_task"
    ]
   },
   "source": [
    "**Задание 16**"
   ]
  },
  {
   "cell_type": "code",
   "execution_count": 38,
   "metadata": {
    "deletable": false,
    "id": "ErNDkmns_Zct"
   },
   "outputs": [],
   "source": [
    "df['genre'] = df['genre'].replace(['hip', 'hop', 'hip-hop'], 'hiphop') # посмотрим на неявные дубикаты названия hiphop "
   ]
  },
  {
   "cell_type": "markdown",
   "metadata": {
    "deletable": false,
    "editable": false,
    "id": "zQKF16_RG15m",
    "tags": [
     "start_task"
    ]
   },
   "source": [
    "**Задание 17**"
   ]
  },
  {
   "cell_type": "code",
   "execution_count": 40,
   "metadata": {
    "deletable": false,
    "id": "wvixALnFG15m"
   },
   "outputs": [
    {
     "data": {
      "text/plain": [
       "array(['acid', 'acoustic', 'action', 'adult', 'africa', 'afrikaans',\n",
       "       'alternative', 'alternativepunk', 'ambient', 'americana',\n",
       "       'animated', 'anime', 'arabesk', 'arabic', 'arena',\n",
       "       'argentinetango', 'art', 'audiobook', 'author', 'avantgarde',\n",
       "       'axé', 'baile', 'balkan', 'beats', 'bigroom', 'black', 'bluegrass',\n",
       "       'blues', 'bollywood', 'bossa', 'brazilian', 'breakbeat', 'breaks',\n",
       "       'broadway', 'cantautori', 'cantopop', 'canzone', 'caribbean',\n",
       "       'caucasian', 'celtic', 'chamber', 'chanson', 'children', 'chill',\n",
       "       'chinese', 'choral', 'christian', 'christmas', 'classical',\n",
       "       'classicmetal', 'club', 'colombian', 'comedy', 'conjazz',\n",
       "       'contemporary', 'country', 'cuban', 'dance', 'dancehall',\n",
       "       'dancepop', 'dark', 'death', 'deep', 'deutschrock', 'deutschspr',\n",
       "       'dirty', 'disco', 'dnb', 'documentary', 'downbeat', 'downtempo',\n",
       "       'drum', 'dub', 'dubstep', 'eastern', 'easy', 'electronic',\n",
       "       'electropop', 'emo', 'entehno', 'epicmetal', 'estrada', 'ethnic',\n",
       "       'eurofolk', 'european', 'experimental', 'extrememetal', 'fado',\n",
       "       'fairytail', 'film', 'fitness', 'flamenco', 'folk', 'folklore',\n",
       "       'folkmetal', 'folkrock', 'folktronica', 'forró', 'frankreich',\n",
       "       'französisch', 'french', 'funk', 'future', 'gangsta', 'garage',\n",
       "       'german', 'ghazal', 'gitarre', 'glitch', 'gospel', 'gothic',\n",
       "       'grime', 'grunge', 'gypsy', 'handsup', \"hard'n'heavy\", 'hardcore',\n",
       "       'hardstyle', 'hardtechno', 'hiphop', 'historisch', 'holiday',\n",
       "       'horror', 'house', 'hymn', 'idm', 'independent', 'indian', 'indie',\n",
       "       'indipop', 'industrial', 'inspirational', 'instrumental',\n",
       "       'international', 'irish', 'jam', 'japanese', 'jazz', 'jewish',\n",
       "       'jpop', 'jungle', 'k-pop', 'karadeniz', 'karaoke', 'kayokyoku',\n",
       "       'korean', 'laiko', 'latin', 'latino', 'leftfield', 'local',\n",
       "       'lounge', 'loungeelectronic', 'lovers', 'malaysian', 'mandopop',\n",
       "       'marschmusik', 'meditative', 'mediterranean', 'melodic', 'metal',\n",
       "       'metalcore', 'mexican', 'middle', 'minimal', 'miscellaneous',\n",
       "       'modern', 'mood', 'mpb', 'muslim', 'native', 'neoklassik', 'neue',\n",
       "       'new', 'newage', 'newwave', 'nu', 'nujazz', 'numetal', 'oceania',\n",
       "       'old', 'opera', 'orchestral', 'other', 'piano', 'podcasts', 'pop',\n",
       "       'popdance', 'popelectronic', 'popeurodance', 'poprussian', 'post',\n",
       "       'posthardcore', 'postrock', 'power', 'progmetal', 'progressive',\n",
       "       'psychedelic', 'punjabi', 'punk', 'quebecois', 'ragga', 'ram',\n",
       "       'rancheras', 'rap', 'rave', 'reggae', 'reggaeton', 'regional',\n",
       "       'relax', 'religious', 'retro', 'rhythm', 'rnb', 'rnr', 'rock',\n",
       "       'rockabilly', 'rockalternative', 'rockindie', 'rockother',\n",
       "       'romance', 'roots', 'ruspop', 'rusrap', 'rusrock', 'russian',\n",
       "       'salsa', 'samba', 'scenic', 'schlager', 'self', 'sertanejo',\n",
       "       'shanson', 'shoegazing', 'showtunes', 'singer', 'ska', 'skarock',\n",
       "       'slow', 'smooth', 'soft', 'soul', 'soulful', 'sound', 'soundtrack',\n",
       "       'southern', 'specialty', 'speech', 'spiritual', 'sport',\n",
       "       'stonerrock', 'surf', 'swing', 'synthpop', 'synthrock',\n",
       "       'sängerportrait', 'tango', 'tanzorchester', 'taraftar', 'tatar',\n",
       "       'tech', 'techno', 'teen', 'thrash', 'top', 'traditional',\n",
       "       'tradjazz', 'trance', 'tribal', 'trip', 'triphop', 'tropical',\n",
       "       'türk', 'türkçe', 'ukrrock', 'unknown', 'urban', 'uzbek',\n",
       "       'variété', 'vi', 'videogame', 'vocal', 'western', 'world',\n",
       "       'worldbeat', 'ïîï', 'электроника'], dtype=object)"
      ]
     },
     "execution_count": 40,
     "metadata": {},
     "output_type": "execute_result"
    }
   ],
   "source": [
    "df['genre'].sort_values().unique() # проверяем заменились ли названия и снова выводим список в алфавитном порядке"
   ]
  },
  {
   "cell_type": "markdown",
   "metadata": {
    "deletable": false,
    "editable": false,
    "id": "jz6a9-7HQUDd"
   },
   "source": [
    "**Выводы**\n",
    "\n",
    "Предобработка обнаружила три проблемы в данных:\n",
    "\n",
    "- нарушения в стиле заголовков,\n",
    "- пропущенные значения,\n",
    "- дубликаты — явные и неявные.\n",
    "\n",
    "Исправили заголовки, чтобы упростить работу с таблицей. Без дубликатов исследование станет более точным.\n",
    "\n",
    "Пропущенные значения заменили на `'unknown'`. Ещё предстоит увидеть, не повредят ли исследованию пропуски в колонке `genre`.\n",
    "\n",
    "Теперь можно перейти к проверке гипотез."
   ]
  },
  {
   "cell_type": "markdown",
   "metadata": {
    "deletable": false,
    "editable": false,
    "id": "WttZHXH0SqKk"
   },
   "source": [
    "## Проверка гипотез"
   ]
  },
  {
   "cell_type": "markdown",
   "metadata": {
    "deletable": false,
    "editable": false,
    "id": "Im936VVi_Zcu"
   },
   "source": [
    "### Сравнение поведения пользователей двух столиц"
   ]
  },
  {
   "cell_type": "markdown",
   "metadata": {
    "deletable": false,
    "editable": false,
    "id": "nwt_MuaL_Zcu"
   },
   "source": [
    "Первая гипотеза утверждает, что пользователи по-разному слушают музыку в Москве и Санкт-Петербурге. Проверим это предположение по данным о трёх днях недели — понедельнике, среде и пятнице. Для этого:\n",
    "\n",
    "* Разделим пользователей Москвы и Санкт-Петербурга.\n",
    "* Сравним, сколько треков послушала каждая группа пользователей в понедельник, среду и пятницу.\n"
   ]
  },
  {
   "cell_type": "markdown",
   "metadata": {
    "deletable": false,
    "id": "8Dw_YMmT_Zcu",
    "tags": [
     "start_task"
    ]
   },
   "source": [
    "**Задание 18**\n",
    "\n"
   ]
  },
  {
   "cell_type": "code",
   "execution_count": 46,
   "metadata": {
    "deletable": false,
    "id": "0_Qs96oh_Zcu"
   },
   "outputs": [
    {
     "data": {
      "text/plain": [
       "city\n",
       "Moscow              42741\n",
       "Saint-Petersburg    18512\n",
       "Name: time, dtype: int64"
      ]
     },
     "execution_count": 46,
     "metadata": {},
     "output_type": "execute_result"
    }
   ],
   "source": [
    "df.groupby('city')['time'].count()  # посмотрим на активность в каждом городе"
   ]
  },
  {
   "cell_type": "markdown",
   "metadata": {
    "id": "dzli3w8o_Zcu",
    "tags": [
     "start_task"
    ]
   },
   "source": [
    "**Задание 19**\n"
   ]
  },
  {
   "cell_type": "code",
   "execution_count": 48,
   "metadata": {
    "deletable": false,
    "id": "uZMKjiJz_Zcu"
   },
   "outputs": [
    {
     "data": {
      "text/plain": [
       "day\n",
       "Friday       21840\n",
       "Monday       21354\n",
       "Wednesday    18059\n",
       "Name: time, dtype: int64"
      ]
     },
     "execution_count": 48,
     "metadata": {},
     "output_type": "execute_result"
    }
   ],
   "source": [
    "df.groupby('day')['time'].count()  # теперь посчитаем активность по дням"
   ]
  },
  {
   "cell_type": "markdown",
   "metadata": {
    "deletable": false,
    "editable": false,
    "id": "POzs8bGa_Zcu",
    "tags": [
     "start_task"
    ]
   },
   "source": [
    "**Задание 20**"
   ]
  },
  {
   "cell_type": "code",
   "execution_count": 50,
   "metadata": {
    "deletable": false,
    "id": "Nz3GdQB1_Zcu"
   },
   "outputs": [],
   "source": [
    "def number_tracks(day, city):\n",
    "    track_list = df[df['day'] == day]\n",
    "    track_list = track_list[track_list['city'] == city]\n",
    "    track_list_count = track_list['user_id'].count() \n",
    "    return track_list_count  # соединим день и город, а также каждого отдельного пользователя, чтобы избежать дубликатов"
   ]
  },
  {
   "cell_type": "markdown",
   "metadata": {
    "deletable": false,
    "editable": false,
    "id": "ytf7xFrFJQ2r",
    "tags": [
     "start_task"
    ]
   },
   "source": [
    "**Задание 21**"
   ]
  },
  {
   "cell_type": "code",
   "execution_count": 52,
   "metadata": {
    "deletable": false,
    "id": "rJcRATNQ_Zcu"
   },
   "outputs": [
    {
     "data": {
      "text/plain": [
       "15740"
      ]
     },
     "execution_count": 52,
     "metadata": {},
     "output_type": "execute_result"
    }
   ],
   "source": [
    "def number_tracks(day, city):\n",
    "    track_list = df[(df['day'] == day) & (df['city'] == city)]  # выбераем определенный день и город\n",
    "    return track_list.shape[0] # размер таблицы города в определенный день\n",
    "\n",
    "monday_msc_tracks = number_tracks('Monday', 'Moscow')\n",
    "monday_msc_tracks  # выводим Москву в понедельник"
   ]
  },
  {
   "cell_type": "code",
   "execution_count": 53,
   "metadata": {
    "deletable": false,
    "id": "hq_ncZ5T_Zcu"
   },
   "outputs": [
    {
     "data": {
      "text/plain": [
       "5614"
      ]
     },
     "execution_count": 53,
     "metadata": {},
     "output_type": "execute_result"
    }
   ],
   "source": [
    "def number_tracks(day, city):\n",
    "    track_list = df[(df['day'] == day) & (df['city'] == city)]\n",
    "    return track_list.shape[0]\n",
    "\n",
    "monday_spb_tracks = number_tracks('Monday', 'Saint-Petersburg')\n",
    "monday_spb_tracks  # выводим Петербург в понедельник"
   ]
  },
  {
   "cell_type": "code",
   "execution_count": 54,
   "metadata": {
    "deletable": false,
    "id": "_NTy2VPU_Zcu"
   },
   "outputs": [
    {
     "data": {
      "text/plain": [
       "11056"
      ]
     },
     "execution_count": 54,
     "metadata": {},
     "output_type": "execute_result"
    }
   ],
   "source": [
    "def number_tracks(day, city):\n",
    "    track_list = df[(df['day'] == day) & (df['city'] == city)]\n",
    "    return track_list.shape[0]\n",
    "\n",
    "wed_msc_tracks = number_tracks('Wednesday', 'Moscow')\n",
    "wed_msc_tracks  #  выводим Москву в среду"
   ]
  },
  {
   "cell_type": "code",
   "execution_count": 55,
   "metadata": {
    "deletable": false,
    "id": "j2y3TAwo_Zcu"
   },
   "outputs": [
    {
     "data": {
      "text/plain": [
       "7003"
      ]
     },
     "execution_count": 55,
     "metadata": {},
     "output_type": "execute_result"
    }
   ],
   "source": [
    "def number_tracks(day, city):\n",
    "    track_list = df[(df['day'] == day) & (df['city'] == city)]\n",
    "    return track_list.shape[0]\n",
    "\n",
    "wed_spb_tracks = number_tracks('Wednesday', 'Saint-Petersburg')\n",
    "wed_spb_tracks # выводим Петербург в среду"
   ]
  },
  {
   "cell_type": "code",
   "execution_count": 56,
   "metadata": {
    "deletable": false,
    "id": "vYDw5u_K_Zcu"
   },
   "outputs": [
    {
     "data": {
      "text/plain": [
       "15945"
      ]
     },
     "execution_count": 56,
     "metadata": {},
     "output_type": "execute_result"
    }
   ],
   "source": [
    "def number_tracks(day, city):\n",
    "    track_list = df[(df['day'] == day) & (df['city'] == city)]\n",
    "    return track_list.shape[0]\n",
    "\n",
    "fri_msc_tracks = number_tracks('Friday', 'Moscow')\n",
    "fri_msc_tracks # выводим Москву в пятницу"
   ]
  },
  {
   "cell_type": "code",
   "execution_count": 57,
   "metadata": {
    "deletable": false,
    "id": "8_yzFtW3_Zcu"
   },
   "outputs": [
    {
     "data": {
      "text/plain": [
       "5895"
      ]
     },
     "execution_count": 57,
     "metadata": {},
     "output_type": "execute_result"
    }
   ],
   "source": [
    "def number_tracks(day, city):\n",
    "    track_list = df[(df['day'] == day) & (df['city'] == city)]\n",
    "    return track_list.shape[0]\n",
    "\n",
    "fri_spb_tracks = number_tracks('Friday', 'Saint-Petersburg')\n",
    "fri_spb_tracks  # выводим Петербург в пятницу"
   ]
  },
  {
   "cell_type": "markdown",
   "metadata": {
    "deletable": false,
    "editable": false,
    "id": "7QXffbO-_Zcu",
    "tags": [
     "start_task"
    ]
   },
   "source": [
    "**Задание 22**"
   ]
  },
  {
   "cell_type": "code",
   "execution_count": 59,
   "metadata": {
    "deletable": false,
    "id": "APAcLpOr_Zcu"
   },
   "outputs": [
    {
     "data": {
      "text/html": [
       "<div>\n",
       "<style scoped>\n",
       "    .dataframe tbody tr th:only-of-type {\n",
       "        vertical-align: middle;\n",
       "    }\n",
       "\n",
       "    .dataframe tbody tr th {\n",
       "        vertical-align: top;\n",
       "    }\n",
       "\n",
       "    .dataframe thead th {\n",
       "        text-align: right;\n",
       "    }\n",
       "</style>\n",
       "<table border=\"1\" class=\"dataframe\">\n",
       "  <thead>\n",
       "    <tr style=\"text-align: right;\">\n",
       "      <th></th>\n",
       "      <th>city</th>\n",
       "      <th>monday</th>\n",
       "      <th>wednesday</th>\n",
       "      <th>friday</th>\n",
       "    </tr>\n",
       "  </thead>\n",
       "  <tbody>\n",
       "    <tr>\n",
       "      <th>0</th>\n",
       "      <td>Moscow</td>\n",
       "      <td>15740</td>\n",
       "      <td>11056</td>\n",
       "      <td>15945</td>\n",
       "    </tr>\n",
       "    <tr>\n",
       "      <th>1</th>\n",
       "      <td>Saint-Petersburg</td>\n",
       "      <td>5614</td>\n",
       "      <td>7003</td>\n",
       "      <td>5895</td>\n",
       "    </tr>\n",
       "  </tbody>\n",
       "</table>\n",
       "</div>"
      ],
      "text/plain": [
       "               city  monday  wednesday  friday\n",
       "0            Moscow   15740      11056   15945\n",
       "1  Saint-Petersburg    5614       7003    5895"
      ]
     },
     "execution_count": 59,
     "metadata": {},
     "output_type": "execute_result"
    }
   ],
   "source": [
    "# выводим значения Москвы и Петербурга с их переменными из задания выше, называем столбцы\n",
    "info = pd.DataFrame(data=[['Moscow', monday_msc_tracks, wed_msc_tracks, fri_msc_tracks], \n",
    "                          ['Saint-Petersburg', monday_spb_tracks, wed_spb_tracks, fri_spb_tracks]], \n",
    "                    columns=['city', \n",
    "                             'monday', \n",
    "                             'wednesday', \n",
    "                             'friday']\n",
    "                   )\n",
    "\n",
    "info "
   ]
  },
  {
   "cell_type": "markdown",
   "metadata": {
    "deletable": false,
    "editable": false,
    "id": "-EgPIHYu_Zcu"
   },
   "source": [
    "**Выводы**\n",
    "\n",
    "Данные показывают разницу поведения пользователей:\n",
    "\n",
    "- В Москве пик прослушиваний приходится на понедельник и пятницу, а в среду заметен спад.\n",
    "- В Петербурге, наоборот, больше слушают музыку по средам. Активность в понедельник и пятницу здесь почти в равной мере уступает среде.\n",
    "\n",
    "Значит, данные говорят в пользу первой гипотезы."
   ]
  },
  {
   "cell_type": "markdown",
   "metadata": {
    "deletable": false,
    "editable": false,
    "id": "atZAxtq4_Zcu"
   },
   "source": [
    "### Музыка в начале и в конце недели"
   ]
  },
  {
   "cell_type": "markdown",
   "metadata": {
    "deletable": false,
    "editable": false,
    "id": "eXrQqXFH_Zcu"
   },
   "source": [
    "Согласно второй гипотезе, утром в понедельник в Москве преобладают одни жанры, а в Петербурге — другие. Так же и вечером пятницы преобладают разные жанры — в зависимости от города."
   ]
  },
  {
   "cell_type": "markdown",
   "metadata": {
    "deletable": false,
    "editable": false,
    "id": "S8UcW6Hw_Zcu",
    "tags": [
     "start_task"
    ]
   },
   "source": [
    "**Задание 23**"
   ]
  },
  {
   "cell_type": "code",
   "execution_count": 64,
   "metadata": {
    "deletable": false,
    "id": "qeaFfM_P_Zcu"
   },
   "outputs": [],
   "source": [
    "moscow_general = df[df['city'] == 'Moscow'] # данные по Москве"
   ]
  },
  {
   "cell_type": "code",
   "execution_count": 65,
   "metadata": {
    "deletable": false,
    "id": "ORaVRKto_Zcu"
   },
   "outputs": [],
   "source": [
    "spb_general = df[df['city'] == 'Saint-Petersburg'] # данные по Петербургу"
   ]
  },
  {
   "cell_type": "markdown",
   "metadata": {
    "deletable": false,
    "editable": false,
    "id": "MEJV-CX2_Zcu",
    "tags": [
     "start_task"
    ]
   },
   "source": [
    "**Задание 24**"
   ]
  },
  {
   "cell_type": "code",
   "execution_count": 67,
   "metadata": {
    "deletable": false,
    "id": "laJT9BYl_Zcu"
   },
   "outputs": [],
   "source": [
    "def genre_weekday(df, day, time1, time2):\n",
    "    # последовательная фильтрация\n",
    "    # выбираем день, оставляем только строки, у которых время меньше time2 и больше time1\n",
    "    genre_df = df[(df['day'] == day) & (df['time'] > time1) & (df['time'] < time2)]\n",
    "    # сгруппируем по столбцу с названиями жанров, посчитаем кол-во строк для каждого жанра\n",
    "    genre_df_grouped = genre_df.groupby('genre')['genre'].count()\n",
    "    # отсортируем результат по убыванию (чтобы в начале оказались самые популярные жанры)\n",
    "    genre_df_sorted = genre_df_grouped.sort_values(ascending=False)\n",
    "    # выведем 10 популярных жанров в указанный отрезок времени заданного дня\n",
    "    return genre_df_sorted[:10]"
   ]
  },
  {
   "cell_type": "markdown",
   "metadata": {
    "deletable": false,
    "editable": false,
    "id": "la2s2_PF_Zcu",
    "tags": [
     "start_task"
    ]
   },
   "source": [
    "**Задание 25**"
   ]
  },
  {
   "cell_type": "code",
   "execution_count": 69,
   "metadata": {
    "deletable": false,
    "id": "yz7itPUQ_Zcu"
   },
   "outputs": [
    {
     "data": {
      "text/plain": [
       "genre\n",
       "pop            781\n",
       "dance          549\n",
       "electronic     480\n",
       "rock           474\n",
       "hiphop         286\n",
       "ruspop         186\n",
       "world          181\n",
       "rusrap         175\n",
       "alternative    164\n",
       "unknown        161\n",
       "Name: genre, dtype: int64"
      ]
     },
     "execution_count": 69,
     "metadata": {},
     "output_type": "execute_result"
    }
   ],
   "source": [
    "genre_weekday(moscow_general, 'Monday', '07:00', '11:00') # вызов фунцкии для утра понедельника в Москве"
   ]
  },
  {
   "cell_type": "code",
   "execution_count": 70,
   "metadata": {
    "deletable": false,
    "id": "kwUcHPdy_Zcu"
   },
   "outputs": [
    {
     "data": {
      "text/plain": [
       "genre\n",
       "pop            218\n",
       "dance          182\n",
       "rock           162\n",
       "electronic     147\n",
       "hiphop          80\n",
       "ruspop          64\n",
       "alternative     58\n",
       "rusrap          55\n",
       "jazz            44\n",
       "classical       40\n",
       "Name: genre, dtype: int64"
      ]
     },
     "execution_count": 70,
     "metadata": {},
     "output_type": "execute_result"
    }
   ],
   "source": [
    "genre_weekday(spb_general, 'Monday', '07:00', '11:00') # для утра понедельника в Петербурге"
   ]
  },
  {
   "cell_type": "code",
   "execution_count": 71,
   "metadata": {
    "deletable": false,
    "id": "EzXVRE1o_Zcu"
   },
   "outputs": [
    {
     "data": {
      "text/plain": [
       "genre\n",
       "pop            713\n",
       "rock           517\n",
       "dance          495\n",
       "electronic     482\n",
       "hiphop         273\n",
       "world          208\n",
       "ruspop         170\n",
       "alternative    163\n",
       "classical      163\n",
       "rusrap         142\n",
       "Name: genre, dtype: int64"
      ]
     },
     "execution_count": 71,
     "metadata": {},
     "output_type": "execute_result"
    }
   ],
   "source": [
    "genre_weekday(moscow_general, 'Friday', '17:00', '23:00') # для вечера пятницы в Москве"
   ]
  },
  {
   "cell_type": "code",
   "execution_count": 72,
   "metadata": {
    "deletable": false,
    "id": "JZaEKu5v_Zcu"
   },
   "outputs": [
    {
     "data": {
      "text/plain": [
       "genre\n",
       "pop            256\n",
       "electronic     216\n",
       "rock           216\n",
       "dance          210\n",
       "hiphop          97\n",
       "alternative     63\n",
       "jazz            61\n",
       "classical       60\n",
       "rusrap          59\n",
       "world           54\n",
       "Name: genre, dtype: int64"
      ]
     },
     "execution_count": 72,
     "metadata": {},
     "output_type": "execute_result"
    }
   ],
   "source": [
    "genre_weekday(spb_general, 'Friday', '17:00', '23:00') # для вечера пятницы в Петербурге"
   ]
  },
  {
   "cell_type": "markdown",
   "metadata": {
    "deletable": false,
    "editable": false,
    "id": "wrCe4MNX_Zcu"
   },
   "source": [
    "**Выводы**\n",
    "\n",
    "Если сравнить топ-10 жанров в понедельник утром, можно сделать такие выводы:\n",
    "\n",
    "1. В Москве и Петербурге слушают похожую музыку. Единственное различие — в московский рейтинг вошёл жанр “world”, а в петербургский — джаз и классика.\n",
    "\n",
    "2. В Москве пропущенных значений оказалось так много, что значение `'unknown'` заняло десятое место среди самых популярных жанров. Значит, пропущенные значения занимают существенную долю в данных и угрожают достоверности исследования.\n",
    "\n",
    "Вечер пятницы не меняет эту картину. Некоторые жанры поднимаются немного выше, другие спускаются, но в целом топ-10 остаётся тем же самым.\n",
    "\n",
    "Таким образом, вторая гипотеза подтвердилась лишь частично:\n",
    "* Пользователи слушают похожую музыку в начале недели и в конце.\n",
    "* Разница между Москвой и Петербургом не слишком выражена. В Москве чаще слушают русскую популярную музыку, в Петербурге — джаз.\n",
    "\n",
    "Однако пропуски в данных ставят под сомнение этот результат. В Москве их так много, что рейтинг топ-10 мог бы выглядеть иначе, если бы не утерянные  данные о жанрах."
   ]
  },
  {
   "cell_type": "markdown",
   "metadata": {
    "deletable": false,
    "editable": false,
    "id": "JolODAqr_Zcu"
   },
   "source": [
    "### Жанровые предпочтения в Москве и Петербурге\n",
    "\n",
    "Гипотеза: Петербург — столица рэпа, музыку этого жанра там слушают чаще, чем в Москве.  А Москва — город контрастов, в котором, тем не менее, преобладает поп-музыка."
   ]
  },
  {
   "cell_type": "markdown",
   "metadata": {
    "deletable": false,
    "editable": false,
    "id": "DlegSvaT_Zcu",
    "tags": [
     "start_task"
    ]
   },
   "source": [
    "**Задание 26**"
   ]
  },
  {
   "cell_type": "code",
   "execution_count": 76,
   "metadata": {
    "deletable": false,
    "id": "r19lIPke_Zcu"
   },
   "outputs": [],
   "source": [
    "moscow_genres = moscow_general.groupby('genre')['genre'].count() # группируем moscow_general, подсчитываем числа значений 'genre' методом count()\n",
    "moscow_genres = moscow_genres.sort_values(ascending=False) # сортируем получившееся в порядке убывания"
   ]
  },
  {
   "cell_type": "markdown",
   "metadata": {
    "deletable": false,
    "editable": false,
    "id": "6kMuomxTiIr8",
    "tags": [
     "start_task"
    ]
   },
   "source": [
    "**Задание 27**"
   ]
  },
  {
   "cell_type": "code",
   "execution_count": 78,
   "metadata": {
    "deletable": false,
    "id": "WhCSooF8_Zcv"
   },
   "outputs": [
    {
     "data": {
      "text/plain": [
       "genre\n",
       "pop            5892\n",
       "dance          4435\n",
       "rock           3965\n",
       "electronic     3786\n",
       "hiphop         2096\n",
       "classical      1616\n",
       "world          1432\n",
       "alternative    1379\n",
       "ruspop         1372\n",
       "rusrap         1161\n",
       "Name: genre, dtype: int64"
      ]
     },
     "execution_count": 78,
     "metadata": {},
     "output_type": "execute_result"
    }
   ],
   "source": [
    "moscow_genres.head(10) # просмотр первых 10 строк moscow_genres"
   ]
  },
  {
   "cell_type": "markdown",
   "metadata": {
    "deletable": false,
    "editable": false,
    "id": "cnPG2vnN_Zcv",
    "tags": [
     "start_task"
    ]
   },
   "source": [
    "**Задание 28**"
   ]
  },
  {
   "cell_type": "code",
   "execution_count": 80,
   "metadata": {
    "deletable": false,
    "id": "gluLIpE7_Zcv"
   },
   "outputs": [],
   "source": [
    "spb_genres = spb_general.groupby('genre')['genre'].count() # группируем spb_general, подсчитываем числа значений 'genre' методом count()\n",
    "spb_genres = spb_genres.sort_values(ascending=False) # сортируем получившееся в порядке убывания"
   ]
  },
  {
   "cell_type": "markdown",
   "metadata": {
    "deletable": false,
    "editable": false,
    "id": "5Doha_ODgyQ8",
    "tags": [
     "start_task"
    ]
   },
   "source": [
    "**Задание 29**"
   ]
  },
  {
   "cell_type": "code",
   "execution_count": 82,
   "metadata": {
    "deletable": false,
    "id": "uaGJHjVU_Zcv"
   },
   "outputs": [
    {
     "data": {
      "text/plain": [
       "genre\n",
       "pop            2431\n",
       "dance          1932\n",
       "rock           1879\n",
       "electronic     1736\n",
       "hiphop          960\n",
       "alternative     649\n",
       "classical       646\n",
       "rusrap          564\n",
       "ruspop          538\n",
       "world           515\n",
       "Name: genre, dtype: int64"
      ]
     },
     "execution_count": 82,
     "metadata": {},
     "output_type": "execute_result"
    }
   ],
   "source": [
    "spb_genres.head(10) # просмотр первых 10 строк spb_genres"
   ]
  },
  {
   "cell_type": "markdown",
   "metadata": {
    "deletable": false,
    "editable": false,
    "id": "RY51YJYu_Zcv"
   },
   "source": [
    "**Выводы**"
   ]
  },
  {
   "cell_type": "markdown",
   "metadata": {
    "deletable": false,
    "editable": false,
    "id": "nVhnJEm__Zcv"
   },
   "source": [
    "Гипотеза частично подтвердилась:\n",
    "* Поп-музыка — самый популярный жанр в Москве, как и предполагала гипотеза. Более того, в топ-10 жанров встречается близкий жанр — русская популярная музыка.\n",
    "* Вопреки ожиданиям, рэп одинаково популярен в Москве и Петербурге.\n"
   ]
  },
  {
   "cell_type": "markdown",
   "metadata": {
    "deletable": false,
    "editable": false,
    "id": "ykKQ0N65_Zcv"
   },
   "source": [
    "## Итоги исследования"
   ]
  },
  {
   "cell_type": "markdown",
   "metadata": {
    "deletable": false,
    "editable": false,
    "id": "tjUwbHb3_Zcv"
   },
   "source": [
    "Проверили три гипотезы и установили:\n",
    "\n",
    "1. День недели по-разному влияет на активность пользователей в Москве и Петербурге.\n",
    "\n",
    "Первая гипотеза полностью подтвердилась.\n",
    "\n",
    "2. Музыкальные предпочтения не сильно меняются в течение недели — будь то Москва или Петербург. Небольшие различия заметны в начале недели, по понедельникам:\n",
    "* в Москве слушают музыку жанра “world”,\n",
    "* в Петербурге — джаз и классику.\n",
    "\n",
    "Таким образом, вторая гипотеза подтвердилась лишь частично. Этот результат мог оказаться иным, если бы не пропуски в данных.\n",
    "\n",
    "3. Во вкусах пользователей Москвы и Петербурга больше общего, чем различий. Вопреки ожиданиям, предпочтения жанров в Петербурге напоминают московские.\n",
    "\n",
    "Третья гипотеза не подтвердилась. Если различия в предпочтениях и существуют, на основной массе пользователей они незаметны."
   ]
  }
 ],
 "metadata": {
  "ExecuteTimeLog": [
   {
    "duration": 52,
    "start_time": "2024-04-25T14:07:57.765Z"
   },
   {
    "duration": 7,
    "start_time": "2024-04-25T14:08:13.011Z"
   },
   {
    "duration": 431,
    "start_time": "2024-04-25T14:28:33.169Z"
   },
   {
    "duration": 69,
    "start_time": "2024-04-25T14:28:33.602Z"
   },
   {
    "duration": 0,
    "start_time": "2024-04-25T14:28:33.681Z"
   },
   {
    "duration": 0,
    "start_time": "2024-04-25T14:28:33.683Z"
   },
   {
    "duration": 0,
    "start_time": "2024-04-25T14:28:33.685Z"
   },
   {
    "duration": 0,
    "start_time": "2024-04-25T14:28:33.686Z"
   },
   {
    "duration": 0,
    "start_time": "2024-04-25T14:28:33.688Z"
   },
   {
    "duration": 0,
    "start_time": "2024-04-25T14:28:33.689Z"
   },
   {
    "duration": 0,
    "start_time": "2024-04-25T14:28:33.691Z"
   },
   {
    "duration": 0,
    "start_time": "2024-04-25T14:28:33.692Z"
   },
   {
    "duration": 0,
    "start_time": "2024-04-25T14:28:33.694Z"
   },
   {
    "duration": 0,
    "start_time": "2024-04-25T14:28:33.695Z"
   },
   {
    "duration": 0,
    "start_time": "2024-04-25T14:28:33.697Z"
   },
   {
    "duration": 0,
    "start_time": "2024-04-25T14:28:33.698Z"
   },
   {
    "duration": 0,
    "start_time": "2024-04-25T14:28:33.700Z"
   },
   {
    "duration": 0,
    "start_time": "2024-04-25T14:28:33.701Z"
   },
   {
    "duration": 0,
    "start_time": "2024-04-25T14:28:33.702Z"
   },
   {
    "duration": 0,
    "start_time": "2024-04-25T14:28:33.704Z"
   },
   {
    "duration": 0,
    "start_time": "2024-04-25T14:28:33.707Z"
   },
   {
    "duration": 0,
    "start_time": "2024-04-25T14:28:33.708Z"
   },
   {
    "duration": 0,
    "start_time": "2024-04-25T14:28:33.710Z"
   },
   {
    "duration": 0,
    "start_time": "2024-04-25T14:28:33.711Z"
   },
   {
    "duration": 0,
    "start_time": "2024-04-25T14:28:33.712Z"
   },
   {
    "duration": 0,
    "start_time": "2024-04-25T14:28:33.714Z"
   },
   {
    "duration": 0,
    "start_time": "2024-04-25T14:28:33.716Z"
   },
   {
    "duration": 0,
    "start_time": "2024-04-25T14:28:33.717Z"
   },
   {
    "duration": 0,
    "start_time": "2024-04-25T14:28:33.718Z"
   },
   {
    "duration": 0,
    "start_time": "2024-04-25T14:28:33.720Z"
   },
   {
    "duration": 0,
    "start_time": "2024-04-25T14:28:33.721Z"
   },
   {
    "duration": 0,
    "start_time": "2024-04-25T14:28:33.722Z"
   },
   {
    "duration": 0,
    "start_time": "2024-04-25T14:28:33.785Z"
   },
   {
    "duration": 0,
    "start_time": "2024-04-25T14:28:33.786Z"
   },
   {
    "duration": 0,
    "start_time": "2024-04-25T14:28:33.787Z"
   },
   {
    "duration": 0,
    "start_time": "2024-04-25T14:28:33.789Z"
   },
   {
    "duration": 0,
    "start_time": "2024-04-25T14:28:33.791Z"
   },
   {
    "duration": 0,
    "start_time": "2024-04-25T14:28:33.794Z"
   },
   {
    "duration": 0,
    "start_time": "2024-04-25T14:28:33.796Z"
   },
   {
    "duration": 0,
    "start_time": "2024-04-25T14:28:33.797Z"
   },
   {
    "duration": 12,
    "start_time": "2024-04-25T14:43:47.895Z"
   },
   {
    "duration": 8,
    "start_time": "2024-04-25T15:00:26.755Z"
   },
   {
    "duration": 472,
    "start_time": "2024-04-25T16:29:15.884Z"
   },
   {
    "duration": 201,
    "start_time": "2024-04-25T16:29:19.814Z"
   },
   {
    "duration": 190,
    "start_time": "2024-04-25T16:29:25.534Z"
   },
   {
    "duration": 3,
    "start_time": "2024-04-25T16:43:51.407Z"
   },
   {
    "duration": 33,
    "start_time": "2024-04-25T17:28:13.328Z"
   },
   {
    "duration": 45,
    "start_time": "2024-04-26T09:08:49.864Z"
   },
   {
    "duration": 5,
    "start_time": "2024-04-26T09:09:21.940Z"
   },
   {
    "duration": 6,
    "start_time": "2024-04-26T09:09:36.348Z"
   },
   {
    "duration": 9,
    "start_time": "2024-04-26T09:10:48.042Z"
   },
   {
    "duration": 6,
    "start_time": "2024-04-26T09:10:59.277Z"
   },
   {
    "duration": 9,
    "start_time": "2024-04-26T09:19:00.210Z"
   },
   {
    "duration": 360,
    "start_time": "2024-04-26T09:19:17.324Z"
   },
   {
    "duration": 269,
    "start_time": "2024-04-26T09:19:17.686Z"
   },
   {
    "duration": 18,
    "start_time": "2024-04-26T09:19:17.956Z"
   },
   {
    "duration": 38,
    "start_time": "2024-04-26T09:19:17.976Z"
   },
   {
    "duration": 3,
    "start_time": "2024-04-26T09:19:18.015Z"
   },
   {
    "duration": 24,
    "start_time": "2024-04-26T09:19:18.020Z"
   },
   {
    "duration": 23,
    "start_time": "2024-04-26T09:19:18.045Z"
   },
   {
    "duration": 9,
    "start_time": "2024-04-26T09:19:18.069Z"
   },
   {
    "duration": 13,
    "start_time": "2024-04-26T09:19:18.079Z"
   },
   {
    "duration": 9,
    "start_time": "2024-04-26T09:19:18.094Z"
   },
   {
    "duration": 9,
    "start_time": "2024-04-26T09:19:18.104Z"
   },
   {
    "duration": 4,
    "start_time": "2024-04-26T09:19:18.114Z"
   },
   {
    "duration": 5,
    "start_time": "2024-04-26T09:19:18.120Z"
   },
   {
    "duration": 5,
    "start_time": "2024-04-26T09:19:18.126Z"
   },
   {
    "duration": 6,
    "start_time": "2024-04-26T09:19:18.132Z"
   },
   {
    "duration": 21,
    "start_time": "2024-04-26T09:19:18.140Z"
   },
   {
    "duration": 20,
    "start_time": "2024-04-26T09:19:18.163Z"
   },
   {
    "duration": 6,
    "start_time": "2024-04-26T09:19:18.186Z"
   },
   {
    "duration": 7,
    "start_time": "2024-04-26T09:19:18.194Z"
   },
   {
    "duration": 68,
    "start_time": "2024-04-26T09:19:18.203Z"
   },
   {
    "duration": 0,
    "start_time": "2024-04-26T09:19:18.273Z"
   },
   {
    "duration": 0,
    "start_time": "2024-04-26T09:19:18.274Z"
   },
   {
    "duration": 0,
    "start_time": "2024-04-26T09:19:18.275Z"
   },
   {
    "duration": 0,
    "start_time": "2024-04-26T09:19:18.277Z"
   },
   {
    "duration": 0,
    "start_time": "2024-04-26T09:19:18.277Z"
   },
   {
    "duration": 0,
    "start_time": "2024-04-26T09:19:18.278Z"
   },
   {
    "duration": 0,
    "start_time": "2024-04-26T09:19:18.280Z"
   },
   {
    "duration": 0,
    "start_time": "2024-04-26T09:19:18.280Z"
   },
   {
    "duration": 0,
    "start_time": "2024-04-26T09:19:18.282Z"
   },
   {
    "duration": 0,
    "start_time": "2024-04-26T09:19:18.283Z"
   },
   {
    "duration": 0,
    "start_time": "2024-04-26T09:19:18.284Z"
   },
   {
    "duration": 0,
    "start_time": "2024-04-26T09:19:18.285Z"
   },
   {
    "duration": 0,
    "start_time": "2024-04-26T09:19:18.286Z"
   },
   {
    "duration": 0,
    "start_time": "2024-04-26T09:19:18.287Z"
   },
   {
    "duration": 0,
    "start_time": "2024-04-26T09:19:18.288Z"
   },
   {
    "duration": 0,
    "start_time": "2024-04-26T09:19:18.289Z"
   },
   {
    "duration": 0,
    "start_time": "2024-04-26T09:19:18.290Z"
   },
   {
    "duration": 0,
    "start_time": "2024-04-26T09:19:18.291Z"
   },
   {
    "duration": 21,
    "start_time": "2024-04-26T09:21:43.191Z"
   },
   {
    "duration": 3,
    "start_time": "2024-04-26T09:23:21.828Z"
   },
   {
    "duration": 3,
    "start_time": "2024-04-26T09:23:23.663Z"
   },
   {
    "duration": 4,
    "start_time": "2024-04-26T09:23:24.560Z"
   },
   {
    "duration": 3,
    "start_time": "2024-04-26T09:24:41.520Z"
   },
   {
    "duration": 82,
    "start_time": "2024-04-26T09:37:09.024Z"
   },
   {
    "duration": 72,
    "start_time": "2024-04-26T09:37:47.668Z"
   },
   {
    "duration": 50,
    "start_time": "2024-04-26T09:42:42.610Z"
   },
   {
    "duration": 27,
    "start_time": "2024-04-26T09:43:16.091Z"
   },
   {
    "duration": 27,
    "start_time": "2024-04-26T09:43:20.176Z"
   },
   {
    "duration": 27,
    "start_time": "2024-04-26T09:43:24.912Z"
   },
   {
    "duration": 392,
    "start_time": "2024-04-26T09:46:10.589Z"
   },
   {
    "duration": 181,
    "start_time": "2024-04-26T09:46:10.983Z"
   },
   {
    "duration": 21,
    "start_time": "2024-04-26T09:46:11.166Z"
   },
   {
    "duration": 51,
    "start_time": "2024-04-26T09:46:11.189Z"
   },
   {
    "duration": 4,
    "start_time": "2024-04-26T09:46:11.242Z"
   },
   {
    "duration": 9,
    "start_time": "2024-04-26T09:46:11.247Z"
   },
   {
    "duration": 20,
    "start_time": "2024-04-26T09:46:11.258Z"
   },
   {
    "duration": 9,
    "start_time": "2024-04-26T09:46:11.280Z"
   },
   {
    "duration": 39,
    "start_time": "2024-04-26T09:46:11.290Z"
   },
   {
    "duration": 54,
    "start_time": "2024-04-26T09:46:11.332Z"
   },
   {
    "duration": 26,
    "start_time": "2024-04-26T09:46:11.388Z"
   },
   {
    "duration": 78,
    "start_time": "2024-04-26T09:46:11.415Z"
   },
   {
    "duration": 103,
    "start_time": "2024-04-26T09:46:11.494Z"
   },
   {
    "duration": 3,
    "start_time": "2024-04-26T09:46:11.599Z"
   },
   {
    "duration": 4,
    "start_time": "2024-04-26T09:46:11.604Z"
   },
   {
    "duration": 3,
    "start_time": "2024-04-26T09:46:11.610Z"
   },
   {
    "duration": 6,
    "start_time": "2024-04-26T09:46:11.615Z"
   },
   {
    "duration": 18,
    "start_time": "2024-04-26T09:46:11.622Z"
   },
   {
    "duration": 3,
    "start_time": "2024-04-26T09:46:11.641Z"
   },
   {
    "duration": 74,
    "start_time": "2024-04-26T09:46:11.646Z"
   },
   {
    "duration": 0,
    "start_time": "2024-04-26T09:46:11.722Z"
   },
   {
    "duration": 0,
    "start_time": "2024-04-26T09:46:11.722Z"
   },
   {
    "duration": 0,
    "start_time": "2024-04-26T09:46:11.724Z"
   },
   {
    "duration": 0,
    "start_time": "2024-04-26T09:46:11.725Z"
   },
   {
    "duration": 0,
    "start_time": "2024-04-26T09:46:11.727Z"
   },
   {
    "duration": 0,
    "start_time": "2024-04-26T09:46:11.728Z"
   },
   {
    "duration": 0,
    "start_time": "2024-04-26T09:46:11.729Z"
   },
   {
    "duration": 0,
    "start_time": "2024-04-26T09:46:11.730Z"
   },
   {
    "duration": 0,
    "start_time": "2024-04-26T09:46:11.731Z"
   },
   {
    "duration": 0,
    "start_time": "2024-04-26T09:46:11.732Z"
   },
   {
    "duration": 0,
    "start_time": "2024-04-26T09:46:11.733Z"
   },
   {
    "duration": 0,
    "start_time": "2024-04-26T09:46:11.734Z"
   },
   {
    "duration": 0,
    "start_time": "2024-04-26T09:46:11.735Z"
   },
   {
    "duration": 0,
    "start_time": "2024-04-26T09:46:11.736Z"
   },
   {
    "duration": 0,
    "start_time": "2024-04-26T09:46:11.737Z"
   },
   {
    "duration": 0,
    "start_time": "2024-04-26T09:46:11.739Z"
   },
   {
    "duration": 0,
    "start_time": "2024-04-26T09:46:11.740Z"
   },
   {
    "duration": 0,
    "start_time": "2024-04-26T09:46:11.741Z"
   },
   {
    "duration": 381,
    "start_time": "2024-04-26T09:48:22.013Z"
   },
   {
    "duration": 179,
    "start_time": "2024-04-26T09:48:22.396Z"
   },
   {
    "duration": 17,
    "start_time": "2024-04-26T09:48:22.577Z"
   },
   {
    "duration": 58,
    "start_time": "2024-04-26T09:48:22.595Z"
   },
   {
    "duration": 27,
    "start_time": "2024-04-26T09:48:22.655Z"
   },
   {
    "duration": 18,
    "start_time": "2024-04-26T09:48:22.684Z"
   },
   {
    "duration": 17,
    "start_time": "2024-04-26T09:48:22.704Z"
   },
   {
    "duration": 25,
    "start_time": "2024-04-26T09:48:22.722Z"
   },
   {
    "duration": 63,
    "start_time": "2024-04-26T09:48:22.749Z"
   },
   {
    "duration": 52,
    "start_time": "2024-04-26T09:48:22.815Z"
   },
   {
    "duration": 27,
    "start_time": "2024-04-26T09:48:22.868Z"
   },
   {
    "duration": 78,
    "start_time": "2024-04-26T09:48:22.897Z"
   },
   {
    "duration": 86,
    "start_time": "2024-04-26T09:48:22.977Z"
   },
   {
    "duration": 2,
    "start_time": "2024-04-26T09:48:23.075Z"
   },
   {
    "duration": 4,
    "start_time": "2024-04-26T09:48:23.079Z"
   },
   {
    "duration": 4,
    "start_time": "2024-04-26T09:48:23.084Z"
   },
   {
    "duration": 51,
    "start_time": "2024-04-26T09:48:23.090Z"
   },
   {
    "duration": 16,
    "start_time": "2024-04-26T09:48:23.143Z"
   },
   {
    "duration": 6,
    "start_time": "2024-04-26T09:48:23.160Z"
   },
   {
    "duration": 62,
    "start_time": "2024-04-26T09:48:23.168Z"
   },
   {
    "duration": 0,
    "start_time": "2024-04-26T09:48:23.232Z"
   },
   {
    "duration": 0,
    "start_time": "2024-04-26T09:48:23.234Z"
   },
   {
    "duration": 0,
    "start_time": "2024-04-26T09:48:23.235Z"
   },
   {
    "duration": 0,
    "start_time": "2024-04-26T09:48:23.236Z"
   },
   {
    "duration": 0,
    "start_time": "2024-04-26T09:48:23.238Z"
   },
   {
    "duration": 0,
    "start_time": "2024-04-26T09:48:23.238Z"
   },
   {
    "duration": 0,
    "start_time": "2024-04-26T09:48:23.240Z"
   },
   {
    "duration": 0,
    "start_time": "2024-04-26T09:48:23.241Z"
   },
   {
    "duration": 0,
    "start_time": "2024-04-26T09:48:23.242Z"
   },
   {
    "duration": 0,
    "start_time": "2024-04-26T09:48:23.243Z"
   },
   {
    "duration": 0,
    "start_time": "2024-04-26T09:48:23.244Z"
   },
   {
    "duration": 0,
    "start_time": "2024-04-26T09:48:23.245Z"
   },
   {
    "duration": 0,
    "start_time": "2024-04-26T09:48:23.246Z"
   },
   {
    "duration": 0,
    "start_time": "2024-04-26T09:48:23.247Z"
   },
   {
    "duration": 0,
    "start_time": "2024-04-26T09:48:23.248Z"
   },
   {
    "duration": 0,
    "start_time": "2024-04-26T09:48:23.249Z"
   },
   {
    "duration": 0,
    "start_time": "2024-04-26T09:48:23.251Z"
   },
   {
    "duration": 0,
    "start_time": "2024-04-26T09:48:23.252Z"
   },
   {
    "duration": 104,
    "start_time": "2024-04-26T09:48:42.466Z"
   },
   {
    "duration": 80,
    "start_time": "2024-04-26T09:53:50.675Z"
   },
   {
    "duration": 78,
    "start_time": "2024-04-26T09:53:56.538Z"
   },
   {
    "duration": 440,
    "start_time": "2024-04-26T09:55:08.647Z"
   },
   {
    "duration": 183,
    "start_time": "2024-04-26T09:55:09.088Z"
   },
   {
    "duration": 17,
    "start_time": "2024-04-26T09:55:09.273Z"
   },
   {
    "duration": 32,
    "start_time": "2024-04-26T09:55:09.292Z"
   },
   {
    "duration": 3,
    "start_time": "2024-04-26T09:55:09.326Z"
   },
   {
    "duration": 19,
    "start_time": "2024-04-26T09:55:09.330Z"
   },
   {
    "duration": 7,
    "start_time": "2024-04-26T09:55:09.350Z"
   },
   {
    "duration": 16,
    "start_time": "2024-04-26T09:55:09.359Z"
   },
   {
    "duration": 26,
    "start_time": "2024-04-26T09:55:09.376Z"
   },
   {
    "duration": 63,
    "start_time": "2024-04-26T09:55:09.404Z"
   },
   {
    "duration": 26,
    "start_time": "2024-04-26T09:55:09.468Z"
   },
   {
    "duration": 71,
    "start_time": "2024-04-26T09:55:09.496Z"
   },
   {
    "duration": 86,
    "start_time": "2024-04-26T09:55:09.574Z"
   },
   {
    "duration": 2,
    "start_time": "2024-04-26T09:55:09.674Z"
   },
   {
    "duration": 30,
    "start_time": "2024-04-26T09:55:09.678Z"
   },
   {
    "duration": 50,
    "start_time": "2024-04-26T09:55:09.709Z"
   },
   {
    "duration": 39,
    "start_time": "2024-04-26T09:55:09.760Z"
   },
   {
    "duration": 13,
    "start_time": "2024-04-26T09:55:09.801Z"
   },
   {
    "duration": 41,
    "start_time": "2024-04-26T09:55:09.816Z"
   },
   {
    "duration": 67,
    "start_time": "2024-04-26T09:55:09.858Z"
   },
   {
    "duration": 0,
    "start_time": "2024-04-26T09:55:09.927Z"
   },
   {
    "duration": 0,
    "start_time": "2024-04-26T09:55:09.928Z"
   },
   {
    "duration": 0,
    "start_time": "2024-04-26T09:55:09.929Z"
   },
   {
    "duration": 0,
    "start_time": "2024-04-26T09:55:09.930Z"
   },
   {
    "duration": 0,
    "start_time": "2024-04-26T09:55:09.931Z"
   },
   {
    "duration": 0,
    "start_time": "2024-04-26T09:55:09.931Z"
   },
   {
    "duration": 0,
    "start_time": "2024-04-26T09:55:09.933Z"
   },
   {
    "duration": 0,
    "start_time": "2024-04-26T09:55:09.933Z"
   },
   {
    "duration": 0,
    "start_time": "2024-04-26T09:55:09.935Z"
   },
   {
    "duration": 1,
    "start_time": "2024-04-26T09:55:09.935Z"
   },
   {
    "duration": 0,
    "start_time": "2024-04-26T09:55:09.936Z"
   },
   {
    "duration": 0,
    "start_time": "2024-04-26T09:55:09.938Z"
   },
   {
    "duration": 0,
    "start_time": "2024-04-26T09:55:09.938Z"
   },
   {
    "duration": 0,
    "start_time": "2024-04-26T09:55:09.940Z"
   },
   {
    "duration": 0,
    "start_time": "2024-04-26T09:55:09.941Z"
   },
   {
    "duration": 0,
    "start_time": "2024-04-26T09:55:09.942Z"
   },
   {
    "duration": 0,
    "start_time": "2024-04-26T09:55:09.944Z"
   },
   {
    "duration": 0,
    "start_time": "2024-04-26T09:55:09.945Z"
   },
   {
    "duration": 87,
    "start_time": "2024-04-26T09:57:13.337Z"
   },
   {
    "duration": 74,
    "start_time": "2024-04-26T09:58:40.553Z"
   },
   {
    "duration": 68,
    "start_time": "2024-04-26T09:58:43.268Z"
   },
   {
    "duration": 71,
    "start_time": "2024-04-26T09:58:43.899Z"
   },
   {
    "duration": 65,
    "start_time": "2024-04-26T09:58:44.264Z"
   },
   {
    "duration": 64,
    "start_time": "2024-04-26T09:58:44.550Z"
   },
   {
    "duration": 66,
    "start_time": "2024-04-26T09:58:44.784Z"
   },
   {
    "duration": 63,
    "start_time": "2024-04-26T09:58:44.971Z"
   },
   {
    "duration": 56,
    "start_time": "2024-04-26T10:00:18.687Z"
   },
   {
    "duration": 377,
    "start_time": "2024-04-26T10:11:14.233Z"
   },
   {
    "duration": 196,
    "start_time": "2024-04-26T10:11:14.612Z"
   },
   {
    "duration": 18,
    "start_time": "2024-04-26T10:11:14.809Z"
   },
   {
    "duration": 32,
    "start_time": "2024-04-26T10:11:14.829Z"
   },
   {
    "duration": 18,
    "start_time": "2024-04-26T10:11:14.862Z"
   },
   {
    "duration": 40,
    "start_time": "2024-04-26T10:11:14.881Z"
   },
   {
    "duration": 43,
    "start_time": "2024-04-26T10:11:14.923Z"
   },
   {
    "duration": 21,
    "start_time": "2024-04-26T10:11:14.968Z"
   },
   {
    "duration": 43,
    "start_time": "2024-04-26T10:11:14.990Z"
   },
   {
    "duration": 168,
    "start_time": "2024-04-26T10:11:15.037Z"
   },
   {
    "duration": 35,
    "start_time": "2024-04-26T10:11:15.207Z"
   },
   {
    "duration": 157,
    "start_time": "2024-04-26T10:11:15.244Z"
   },
   {
    "duration": 77,
    "start_time": "2024-04-26T10:11:15.403Z"
   },
   {
    "duration": 63,
    "start_time": "2024-04-26T10:11:15.482Z"
   },
   {
    "duration": 83,
    "start_time": "2024-04-26T10:11:15.547Z"
   },
   {
    "duration": 0,
    "start_time": "2024-04-26T10:11:15.632Z"
   },
   {
    "duration": 0,
    "start_time": "2024-04-26T10:11:15.634Z"
   },
   {
    "duration": 0,
    "start_time": "2024-04-26T10:11:15.635Z"
   },
   {
    "duration": 0,
    "start_time": "2024-04-26T10:11:15.637Z"
   },
   {
    "duration": 0,
    "start_time": "2024-04-26T10:11:15.638Z"
   },
   {
    "duration": 0,
    "start_time": "2024-04-26T10:11:15.640Z"
   },
   {
    "duration": 0,
    "start_time": "2024-04-26T10:11:15.641Z"
   },
   {
    "duration": 0,
    "start_time": "2024-04-26T10:11:15.643Z"
   },
   {
    "duration": 0,
    "start_time": "2024-04-26T10:11:15.644Z"
   },
   {
    "duration": 0,
    "start_time": "2024-04-26T10:11:15.645Z"
   },
   {
    "duration": 0,
    "start_time": "2024-04-26T10:11:15.646Z"
   },
   {
    "duration": 0,
    "start_time": "2024-04-26T10:11:15.647Z"
   },
   {
    "duration": 0,
    "start_time": "2024-04-26T10:11:15.674Z"
   },
   {
    "duration": 0,
    "start_time": "2024-04-26T10:11:15.675Z"
   },
   {
    "duration": 0,
    "start_time": "2024-04-26T10:11:15.676Z"
   },
   {
    "duration": 0,
    "start_time": "2024-04-26T10:11:15.677Z"
   },
   {
    "duration": 0,
    "start_time": "2024-04-26T10:11:15.678Z"
   },
   {
    "duration": 0,
    "start_time": "2024-04-26T10:11:15.679Z"
   },
   {
    "duration": 0,
    "start_time": "2024-04-26T10:11:15.680Z"
   },
   {
    "duration": 0,
    "start_time": "2024-04-26T10:11:15.681Z"
   },
   {
    "duration": 0,
    "start_time": "2024-04-26T10:11:15.682Z"
   },
   {
    "duration": 0,
    "start_time": "2024-04-26T10:11:15.683Z"
   },
   {
    "duration": 0,
    "start_time": "2024-04-26T10:11:15.684Z"
   },
   {
    "duration": 10,
    "start_time": "2024-04-26T10:11:29.119Z"
   },
   {
    "duration": 372,
    "start_time": "2024-04-26T10:17:53.924Z"
   },
   {
    "duration": 178,
    "start_time": "2024-04-26T10:17:54.298Z"
   },
   {
    "duration": 15,
    "start_time": "2024-04-26T10:17:54.478Z"
   },
   {
    "duration": 35,
    "start_time": "2024-04-26T10:17:54.495Z"
   },
   {
    "duration": 3,
    "start_time": "2024-04-26T10:17:54.531Z"
   },
   {
    "duration": 18,
    "start_time": "2024-04-26T10:17:54.536Z"
   },
   {
    "duration": 22,
    "start_time": "2024-04-26T10:17:54.556Z"
   },
   {
    "duration": 19,
    "start_time": "2024-04-26T10:17:54.580Z"
   },
   {
    "duration": 42,
    "start_time": "2024-04-26T10:17:54.600Z"
   },
   {
    "duration": 71,
    "start_time": "2024-04-26T10:17:54.644Z"
   },
   {
    "duration": 27,
    "start_time": "2024-04-26T10:17:54.717Z"
   },
   {
    "duration": 79,
    "start_time": "2024-04-26T10:17:54.745Z"
   },
   {
    "duration": 83,
    "start_time": "2024-04-26T10:17:54.826Z"
   },
   {
    "duration": 65,
    "start_time": "2024-04-26T10:17:54.910Z"
   },
   {
    "duration": 63,
    "start_time": "2024-04-26T10:17:54.977Z"
   },
   {
    "duration": 0,
    "start_time": "2024-04-26T10:17:55.041Z"
   },
   {
    "duration": 0,
    "start_time": "2024-04-26T10:17:55.043Z"
   },
   {
    "duration": 0,
    "start_time": "2024-04-26T10:17:55.044Z"
   },
   {
    "duration": 0,
    "start_time": "2024-04-26T10:17:55.045Z"
   },
   {
    "duration": 0,
    "start_time": "2024-04-26T10:17:55.046Z"
   },
   {
    "duration": 0,
    "start_time": "2024-04-26T10:17:55.047Z"
   },
   {
    "duration": 0,
    "start_time": "2024-04-26T10:17:55.048Z"
   },
   {
    "duration": 0,
    "start_time": "2024-04-26T10:17:55.074Z"
   },
   {
    "duration": 0,
    "start_time": "2024-04-26T10:17:55.075Z"
   },
   {
    "duration": 0,
    "start_time": "2024-04-26T10:17:55.077Z"
   },
   {
    "duration": 0,
    "start_time": "2024-04-26T10:17:55.078Z"
   },
   {
    "duration": 0,
    "start_time": "2024-04-26T10:17:55.079Z"
   },
   {
    "duration": 0,
    "start_time": "2024-04-26T10:17:55.080Z"
   },
   {
    "duration": 0,
    "start_time": "2024-04-26T10:17:55.081Z"
   },
   {
    "duration": 0,
    "start_time": "2024-04-26T10:17:55.082Z"
   },
   {
    "duration": 0,
    "start_time": "2024-04-26T10:17:55.083Z"
   },
   {
    "duration": 0,
    "start_time": "2024-04-26T10:17:55.084Z"
   },
   {
    "duration": 0,
    "start_time": "2024-04-26T10:17:55.085Z"
   },
   {
    "duration": 0,
    "start_time": "2024-04-26T10:17:55.086Z"
   },
   {
    "duration": 0,
    "start_time": "2024-04-26T10:17:55.087Z"
   },
   {
    "duration": 0,
    "start_time": "2024-04-26T10:17:55.088Z"
   },
   {
    "duration": 0,
    "start_time": "2024-04-26T10:17:55.089Z"
   },
   {
    "duration": 0,
    "start_time": "2024-04-26T10:17:55.090Z"
   },
   {
    "duration": 49,
    "start_time": "2024-04-26T10:20:33.425Z"
   },
   {
    "duration": 9,
    "start_time": "2024-04-26T10:33:42.081Z"
   },
   {
    "duration": 407,
    "start_time": "2024-04-26T10:34:24.485Z"
   },
   {
    "duration": 181,
    "start_time": "2024-04-26T10:34:24.894Z"
   },
   {
    "duration": 17,
    "start_time": "2024-04-26T10:34:25.077Z"
   },
   {
    "duration": 32,
    "start_time": "2024-04-26T10:34:25.095Z"
   },
   {
    "duration": 3,
    "start_time": "2024-04-26T10:34:25.129Z"
   },
   {
    "duration": 7,
    "start_time": "2024-04-26T10:34:25.133Z"
   },
   {
    "duration": 9,
    "start_time": "2024-04-26T10:34:25.141Z"
   },
   {
    "duration": 25,
    "start_time": "2024-04-26T10:34:25.151Z"
   },
   {
    "duration": 42,
    "start_time": "2024-04-26T10:34:25.177Z"
   },
   {
    "duration": 106,
    "start_time": "2024-04-26T10:34:25.221Z"
   },
   {
    "duration": 36,
    "start_time": "2024-04-26T10:34:25.329Z"
   },
   {
    "duration": 83,
    "start_time": "2024-04-26T10:34:25.367Z"
   },
   {
    "duration": 79,
    "start_time": "2024-04-26T10:34:25.451Z"
   },
   {
    "duration": 69,
    "start_time": "2024-04-26T10:34:25.533Z"
   },
   {
    "duration": 44,
    "start_time": "2024-04-26T10:34:25.603Z"
   },
   {
    "duration": 26,
    "start_time": "2024-04-26T10:34:25.648Z"
   },
   {
    "duration": 67,
    "start_time": "2024-04-26T10:34:25.676Z"
   },
   {
    "duration": 65,
    "start_time": "2024-04-26T10:34:25.745Z"
   },
   {
    "duration": 0,
    "start_time": "2024-04-26T10:34:25.812Z"
   },
   {
    "duration": 0,
    "start_time": "2024-04-26T10:34:25.813Z"
   },
   {
    "duration": 0,
    "start_time": "2024-04-26T10:34:25.814Z"
   },
   {
    "duration": 0,
    "start_time": "2024-04-26T10:34:25.816Z"
   },
   {
    "duration": 0,
    "start_time": "2024-04-26T10:34:25.817Z"
   },
   {
    "duration": 0,
    "start_time": "2024-04-26T10:34:25.818Z"
   },
   {
    "duration": 0,
    "start_time": "2024-04-26T10:34:25.819Z"
   },
   {
    "duration": 0,
    "start_time": "2024-04-26T10:34:25.820Z"
   },
   {
    "duration": 0,
    "start_time": "2024-04-26T10:34:25.821Z"
   },
   {
    "duration": 0,
    "start_time": "2024-04-26T10:34:25.823Z"
   },
   {
    "duration": 0,
    "start_time": "2024-04-26T10:34:25.824Z"
   },
   {
    "duration": 0,
    "start_time": "2024-04-26T10:34:25.825Z"
   },
   {
    "duration": 0,
    "start_time": "2024-04-26T10:34:25.826Z"
   },
   {
    "duration": 0,
    "start_time": "2024-04-26T10:34:25.827Z"
   },
   {
    "duration": 0,
    "start_time": "2024-04-26T10:34:25.828Z"
   },
   {
    "duration": 0,
    "start_time": "2024-04-26T10:34:25.829Z"
   },
   {
    "duration": 0,
    "start_time": "2024-04-26T10:34:25.830Z"
   },
   {
    "duration": 0,
    "start_time": "2024-04-26T10:34:25.831Z"
   },
   {
    "duration": 0,
    "start_time": "2024-04-26T10:34:25.833Z"
   },
   {
    "duration": 0,
    "start_time": "2024-04-26T10:34:25.834Z"
   },
   {
    "duration": 12,
    "start_time": "2024-04-26T10:35:54.059Z"
   },
   {
    "duration": 377,
    "start_time": "2024-04-26T10:36:18.327Z"
   },
   {
    "duration": 183,
    "start_time": "2024-04-26T10:36:18.707Z"
   },
   {
    "duration": 17,
    "start_time": "2024-04-26T10:36:18.892Z"
   },
   {
    "duration": 33,
    "start_time": "2024-04-26T10:36:18.910Z"
   },
   {
    "duration": 8,
    "start_time": "2024-04-26T10:36:18.945Z"
   },
   {
    "duration": 21,
    "start_time": "2024-04-26T10:36:18.954Z"
   },
   {
    "duration": 12,
    "start_time": "2024-04-26T10:36:18.976Z"
   },
   {
    "duration": 12,
    "start_time": "2024-04-26T10:36:18.989Z"
   },
   {
    "duration": 42,
    "start_time": "2024-04-26T10:36:19.002Z"
   },
   {
    "duration": 75,
    "start_time": "2024-04-26T10:36:19.046Z"
   },
   {
    "duration": 27,
    "start_time": "2024-04-26T10:36:19.122Z"
   },
   {
    "duration": 83,
    "start_time": "2024-04-26T10:36:19.150Z"
   },
   {
    "duration": 82,
    "start_time": "2024-04-26T10:36:19.235Z"
   },
   {
    "duration": 64,
    "start_time": "2024-04-26T10:36:19.321Z"
   },
   {
    "duration": 54,
    "start_time": "2024-04-26T10:36:19.386Z"
   },
   {
    "duration": 11,
    "start_time": "2024-04-26T10:36:19.441Z"
   },
   {
    "duration": 65,
    "start_time": "2024-04-26T10:36:19.454Z"
   },
   {
    "duration": 75,
    "start_time": "2024-04-26T10:36:19.521Z"
   },
   {
    "duration": 0,
    "start_time": "2024-04-26T10:36:19.598Z"
   },
   {
    "duration": 0,
    "start_time": "2024-04-26T10:36:19.599Z"
   },
   {
    "duration": 0,
    "start_time": "2024-04-26T10:36:19.601Z"
   },
   {
    "duration": 0,
    "start_time": "2024-04-26T10:36:19.602Z"
   },
   {
    "duration": 0,
    "start_time": "2024-04-26T10:36:19.603Z"
   },
   {
    "duration": 0,
    "start_time": "2024-04-26T10:36:19.604Z"
   },
   {
    "duration": 0,
    "start_time": "2024-04-26T10:36:19.605Z"
   },
   {
    "duration": 0,
    "start_time": "2024-04-26T10:36:19.606Z"
   },
   {
    "duration": 0,
    "start_time": "2024-04-26T10:36:19.607Z"
   },
   {
    "duration": 0,
    "start_time": "2024-04-26T10:36:19.608Z"
   },
   {
    "duration": 0,
    "start_time": "2024-04-26T10:36:19.609Z"
   },
   {
    "duration": 0,
    "start_time": "2024-04-26T10:36:19.611Z"
   },
   {
    "duration": 0,
    "start_time": "2024-04-26T10:36:19.612Z"
   },
   {
    "duration": 1,
    "start_time": "2024-04-26T10:36:19.612Z"
   },
   {
    "duration": 0,
    "start_time": "2024-04-26T10:36:19.614Z"
   },
   {
    "duration": 0,
    "start_time": "2024-04-26T10:36:19.614Z"
   },
   {
    "duration": 0,
    "start_time": "2024-04-26T10:36:19.616Z"
   },
   {
    "duration": 0,
    "start_time": "2024-04-26T10:36:19.616Z"
   },
   {
    "duration": 0,
    "start_time": "2024-04-26T10:36:19.617Z"
   },
   {
    "duration": 0,
    "start_time": "2024-04-26T10:36:19.618Z"
   },
   {
    "duration": 61,
    "start_time": "2024-04-26T10:37:34.598Z"
   },
   {
    "duration": 9,
    "start_time": "2024-04-26T10:41:54.936Z"
   },
   {
    "duration": 9,
    "start_time": "2024-04-26T10:43:02.015Z"
   },
   {
    "duration": 414,
    "start_time": "2024-04-26T10:44:58.702Z"
   },
   {
    "duration": 210,
    "start_time": "2024-04-26T10:44:59.118Z"
   },
   {
    "duration": 17,
    "start_time": "2024-04-26T10:44:59.330Z"
   },
   {
    "duration": 37,
    "start_time": "2024-04-26T10:44:59.349Z"
   },
   {
    "duration": 3,
    "start_time": "2024-04-26T10:44:59.388Z"
   },
   {
    "duration": 5,
    "start_time": "2024-04-26T10:44:59.392Z"
   },
   {
    "duration": 6,
    "start_time": "2024-04-26T10:44:59.399Z"
   },
   {
    "duration": 19,
    "start_time": "2024-04-26T10:44:59.406Z"
   },
   {
    "duration": 32,
    "start_time": "2024-04-26T10:44:59.427Z"
   },
   {
    "duration": 62,
    "start_time": "2024-04-26T10:44:59.461Z"
   },
   {
    "duration": 27,
    "start_time": "2024-04-26T10:44:59.525Z"
   },
   {
    "duration": 79,
    "start_time": "2024-04-26T10:44:59.553Z"
   },
   {
    "duration": 84,
    "start_time": "2024-04-26T10:44:59.634Z"
   },
   {
    "duration": 70,
    "start_time": "2024-04-26T10:44:59.723Z"
   },
   {
    "duration": 44,
    "start_time": "2024-04-26T10:44:59.794Z"
   },
   {
    "duration": 13,
    "start_time": "2024-04-26T10:44:59.840Z"
   },
   {
    "duration": 73,
    "start_time": "2024-04-26T10:44:59.854Z"
   },
   {
    "duration": 67,
    "start_time": "2024-04-26T10:44:59.928Z"
   },
   {
    "duration": 0,
    "start_time": "2024-04-26T10:44:59.997Z"
   },
   {
    "duration": 0,
    "start_time": "2024-04-26T10:44:59.998Z"
   },
   {
    "duration": 0,
    "start_time": "2024-04-26T10:44:59.999Z"
   },
   {
    "duration": 0,
    "start_time": "2024-04-26T10:45:00.001Z"
   },
   {
    "duration": 0,
    "start_time": "2024-04-26T10:45:00.002Z"
   },
   {
    "duration": 0,
    "start_time": "2024-04-26T10:45:00.004Z"
   },
   {
    "duration": 0,
    "start_time": "2024-04-26T10:45:00.005Z"
   },
   {
    "duration": 0,
    "start_time": "2024-04-26T10:45:00.007Z"
   },
   {
    "duration": 0,
    "start_time": "2024-04-26T10:45:00.015Z"
   },
   {
    "duration": 0,
    "start_time": "2024-04-26T10:45:00.016Z"
   },
   {
    "duration": 0,
    "start_time": "2024-04-26T10:45:00.017Z"
   },
   {
    "duration": 0,
    "start_time": "2024-04-26T10:45:00.019Z"
   },
   {
    "duration": 0,
    "start_time": "2024-04-26T10:45:00.021Z"
   },
   {
    "duration": 0,
    "start_time": "2024-04-26T10:45:00.022Z"
   },
   {
    "duration": 0,
    "start_time": "2024-04-26T10:45:00.023Z"
   },
   {
    "duration": 0,
    "start_time": "2024-04-26T10:45:00.025Z"
   },
   {
    "duration": 0,
    "start_time": "2024-04-26T10:45:00.026Z"
   },
   {
    "duration": 0,
    "start_time": "2024-04-26T10:45:00.028Z"
   },
   {
    "duration": 0,
    "start_time": "2024-04-26T10:45:00.030Z"
   },
   {
    "duration": 0,
    "start_time": "2024-04-26T10:45:00.031Z"
   },
   {
    "duration": 8,
    "start_time": "2024-04-26T10:51:38.264Z"
   },
   {
    "duration": 9,
    "start_time": "2024-04-26T10:53:51.409Z"
   },
   {
    "duration": 415,
    "start_time": "2024-04-26T10:54:01.077Z"
   },
   {
    "duration": 192,
    "start_time": "2024-04-26T10:54:01.493Z"
   },
   {
    "duration": 20,
    "start_time": "2024-04-26T10:54:01.686Z"
   },
   {
    "duration": 166,
    "start_time": "2024-04-26T10:54:01.708Z"
   },
   {
    "duration": 127,
    "start_time": "2024-04-26T10:54:01.877Z"
   },
   {
    "duration": 63,
    "start_time": "2024-04-26T10:54:02.006Z"
   },
   {
    "duration": 79,
    "start_time": "2024-04-26T10:54:02.071Z"
   },
   {
    "duration": 58,
    "start_time": "2024-04-26T10:54:02.151Z"
   },
   {
    "duration": 76,
    "start_time": "2024-04-26T10:54:02.211Z"
   },
   {
    "duration": 62,
    "start_time": "2024-04-26T10:54:02.288Z"
   },
   {
    "duration": 28,
    "start_time": "2024-04-26T10:54:02.351Z"
   },
   {
    "duration": 81,
    "start_time": "2024-04-26T10:54:02.380Z"
   },
   {
    "duration": 80,
    "start_time": "2024-04-26T10:54:02.463Z"
   },
   {
    "duration": 66,
    "start_time": "2024-04-26T10:54:02.547Z"
   },
   {
    "duration": 42,
    "start_time": "2024-04-26T10:54:02.614Z"
   },
   {
    "duration": 33,
    "start_time": "2024-04-26T10:54:02.657Z"
   },
   {
    "duration": 51,
    "start_time": "2024-04-26T10:54:02.692Z"
   },
   {
    "duration": 64,
    "start_time": "2024-04-26T10:54:02.745Z"
   },
   {
    "duration": 0,
    "start_time": "2024-04-26T10:54:02.810Z"
   },
   {
    "duration": 0,
    "start_time": "2024-04-26T10:54:02.811Z"
   },
   {
    "duration": 0,
    "start_time": "2024-04-26T10:54:02.812Z"
   },
   {
    "duration": 0,
    "start_time": "2024-04-26T10:54:02.813Z"
   },
   {
    "duration": 0,
    "start_time": "2024-04-26T10:54:02.814Z"
   },
   {
    "duration": 0,
    "start_time": "2024-04-26T10:54:02.815Z"
   },
   {
    "duration": 0,
    "start_time": "2024-04-26T10:54:02.816Z"
   },
   {
    "duration": 0,
    "start_time": "2024-04-26T10:54:02.817Z"
   },
   {
    "duration": 0,
    "start_time": "2024-04-26T10:54:02.818Z"
   },
   {
    "duration": 0,
    "start_time": "2024-04-26T10:54:02.819Z"
   },
   {
    "duration": 0,
    "start_time": "2024-04-26T10:54:02.820Z"
   },
   {
    "duration": 0,
    "start_time": "2024-04-26T10:54:02.821Z"
   },
   {
    "duration": 0,
    "start_time": "2024-04-26T10:54:02.822Z"
   },
   {
    "duration": 0,
    "start_time": "2024-04-26T10:54:02.823Z"
   },
   {
    "duration": 0,
    "start_time": "2024-04-26T10:54:02.824Z"
   },
   {
    "duration": 0,
    "start_time": "2024-04-26T10:54:02.825Z"
   },
   {
    "duration": 0,
    "start_time": "2024-04-26T10:54:02.826Z"
   },
   {
    "duration": 0,
    "start_time": "2024-04-26T10:54:02.826Z"
   },
   {
    "duration": 0,
    "start_time": "2024-04-26T10:54:02.827Z"
   },
   {
    "duration": 0,
    "start_time": "2024-04-26T10:54:02.828Z"
   },
   {
    "duration": 9,
    "start_time": "2024-04-26T10:56:29.833Z"
   },
   {
    "duration": 9,
    "start_time": "2024-04-26T10:58:51.906Z"
   },
   {
    "duration": 35,
    "start_time": "2024-04-26T11:08:06.476Z"
   },
   {
    "duration": 400,
    "start_time": "2024-04-26T11:28:11.039Z"
   },
   {
    "duration": 180,
    "start_time": "2024-04-26T11:28:11.441Z"
   },
   {
    "duration": 17,
    "start_time": "2024-04-26T11:28:11.623Z"
   },
   {
    "duration": 47,
    "start_time": "2024-04-26T11:28:11.642Z"
   },
   {
    "duration": 6,
    "start_time": "2024-04-26T11:28:11.691Z"
   },
   {
    "duration": 11,
    "start_time": "2024-04-26T11:28:11.699Z"
   },
   {
    "duration": 34,
    "start_time": "2024-04-26T11:28:11.711Z"
   },
   {
    "duration": 26,
    "start_time": "2024-04-26T11:28:11.747Z"
   },
   {
    "duration": 60,
    "start_time": "2024-04-26T11:28:11.774Z"
   },
   {
    "duration": 62,
    "start_time": "2024-04-26T11:28:11.836Z"
   },
   {
    "duration": 27,
    "start_time": "2024-04-26T11:28:11.900Z"
   },
   {
    "duration": 90,
    "start_time": "2024-04-26T11:28:11.928Z"
   },
   {
    "duration": 91,
    "start_time": "2024-04-26T11:28:12.019Z"
   },
   {
    "duration": 70,
    "start_time": "2024-04-26T11:28:12.112Z"
   },
   {
    "duration": 44,
    "start_time": "2024-04-26T11:28:12.184Z"
   },
   {
    "duration": 12,
    "start_time": "2024-04-26T11:28:12.229Z"
   },
   {
    "duration": 69,
    "start_time": "2024-04-26T11:28:12.242Z"
   },
   {
    "duration": 40,
    "start_time": "2024-04-26T11:28:12.313Z"
   },
   {
    "duration": 8,
    "start_time": "2024-04-26T11:28:12.354Z"
   },
   {
    "duration": 70,
    "start_time": "2024-04-26T11:28:12.364Z"
   },
   {
    "duration": 0,
    "start_time": "2024-04-26T11:28:12.436Z"
   },
   {
    "duration": 0,
    "start_time": "2024-04-26T11:28:12.436Z"
   },
   {
    "duration": 0,
    "start_time": "2024-04-26T11:28:12.438Z"
   },
   {
    "duration": 0,
    "start_time": "2024-04-26T11:28:12.439Z"
   },
   {
    "duration": 0,
    "start_time": "2024-04-26T11:28:12.439Z"
   },
   {
    "duration": 0,
    "start_time": "2024-04-26T11:28:12.440Z"
   },
   {
    "duration": 0,
    "start_time": "2024-04-26T11:28:12.442Z"
   },
   {
    "duration": 0,
    "start_time": "2024-04-26T11:28:12.442Z"
   },
   {
    "duration": 0,
    "start_time": "2024-04-26T11:28:12.443Z"
   },
   {
    "duration": 0,
    "start_time": "2024-04-26T11:28:12.444Z"
   },
   {
    "duration": 0,
    "start_time": "2024-04-26T11:28:12.445Z"
   },
   {
    "duration": 0,
    "start_time": "2024-04-26T11:28:12.446Z"
   },
   {
    "duration": 0,
    "start_time": "2024-04-26T11:28:12.447Z"
   },
   {
    "duration": 0,
    "start_time": "2024-04-26T11:28:12.448Z"
   },
   {
    "duration": 0,
    "start_time": "2024-04-26T11:28:12.449Z"
   },
   {
    "duration": 0,
    "start_time": "2024-04-26T11:28:12.450Z"
   },
   {
    "duration": 0,
    "start_time": "2024-04-26T11:28:12.451Z"
   },
   {
    "duration": 0,
    "start_time": "2024-04-26T11:28:12.452Z"
   },
   {
    "duration": 32,
    "start_time": "2024-04-26T11:28:20.289Z"
   },
   {
    "duration": 85,
    "start_time": "2024-04-26T14:15:04.760Z"
   },
   {
    "duration": 397,
    "start_time": "2024-04-26T14:16:12.877Z"
   },
   {
    "duration": 171,
    "start_time": "2024-04-26T14:16:13.275Z"
   },
   {
    "duration": 16,
    "start_time": "2024-04-26T14:16:13.447Z"
   },
   {
    "duration": 34,
    "start_time": "2024-04-26T14:16:13.465Z"
   },
   {
    "duration": 2,
    "start_time": "2024-04-26T14:16:13.501Z"
   },
   {
    "duration": 25,
    "start_time": "2024-04-26T14:16:13.504Z"
   },
   {
    "duration": 22,
    "start_time": "2024-04-26T14:16:13.531Z"
   },
   {
    "duration": 20,
    "start_time": "2024-04-26T14:16:13.554Z"
   },
   {
    "duration": 33,
    "start_time": "2024-04-26T14:16:13.575Z"
   },
   {
    "duration": 50,
    "start_time": "2024-04-26T14:16:13.610Z"
   },
   {
    "duration": 29,
    "start_time": "2024-04-26T14:16:13.662Z"
   },
   {
    "duration": 65,
    "start_time": "2024-04-26T14:16:13.692Z"
   },
   {
    "duration": 83,
    "start_time": "2024-04-26T14:16:13.759Z"
   },
   {
    "duration": 74,
    "start_time": "2024-04-26T14:16:13.843Z"
   },
   {
    "duration": 59,
    "start_time": "2024-04-26T14:16:13.919Z"
   },
   {
    "duration": 12,
    "start_time": "2024-04-26T14:16:13.979Z"
   },
   {
    "duration": 60,
    "start_time": "2024-04-26T14:16:13.993Z"
   },
   {
    "duration": 11,
    "start_time": "2024-04-26T14:16:14.054Z"
   },
   {
    "duration": 12,
    "start_time": "2024-04-26T14:16:14.074Z"
   },
   {
    "duration": 64,
    "start_time": "2024-04-26T14:16:14.088Z"
   },
   {
    "duration": 0,
    "start_time": "2024-04-26T14:16:14.154Z"
   },
   {
    "duration": 0,
    "start_time": "2024-04-26T14:16:14.155Z"
   },
   {
    "duration": 0,
    "start_time": "2024-04-26T14:16:14.157Z"
   },
   {
    "duration": 0,
    "start_time": "2024-04-26T14:16:14.158Z"
   },
   {
    "duration": 0,
    "start_time": "2024-04-26T14:16:14.159Z"
   },
   {
    "duration": 0,
    "start_time": "2024-04-26T14:16:14.160Z"
   },
   {
    "duration": 0,
    "start_time": "2024-04-26T14:16:14.161Z"
   },
   {
    "duration": 0,
    "start_time": "2024-04-26T14:16:14.162Z"
   },
   {
    "duration": 0,
    "start_time": "2024-04-26T14:16:14.163Z"
   },
   {
    "duration": 0,
    "start_time": "2024-04-26T14:16:14.164Z"
   },
   {
    "duration": 0,
    "start_time": "2024-04-26T14:16:14.166Z"
   },
   {
    "duration": 0,
    "start_time": "2024-04-26T14:16:14.167Z"
   },
   {
    "duration": 0,
    "start_time": "2024-04-26T14:16:14.169Z"
   },
   {
    "duration": 0,
    "start_time": "2024-04-26T14:16:14.170Z"
   },
   {
    "duration": 0,
    "start_time": "2024-04-26T14:16:14.171Z"
   },
   {
    "duration": 0,
    "start_time": "2024-04-26T14:16:14.172Z"
   },
   {
    "duration": 0,
    "start_time": "2024-04-26T14:16:14.173Z"
   },
   {
    "duration": 0,
    "start_time": "2024-04-26T14:16:14.175Z"
   },
   {
    "duration": 66,
    "start_time": "2024-04-26T14:17:07.315Z"
   },
   {
    "duration": 70,
    "start_time": "2024-04-26T14:18:53.343Z"
   },
   {
    "duration": 64,
    "start_time": "2024-04-26T14:19:08.432Z"
   },
   {
    "duration": 68,
    "start_time": "2024-04-26T14:20:58.369Z"
   },
   {
    "duration": 378,
    "start_time": "2024-04-27T08:28:40.830Z"
   },
   {
    "duration": 265,
    "start_time": "2024-04-27T08:28:41.210Z"
   },
   {
    "duration": 21,
    "start_time": "2024-04-27T08:28:41.477Z"
   },
   {
    "duration": 101,
    "start_time": "2024-04-27T08:28:41.499Z"
   },
   {
    "duration": 19,
    "start_time": "2024-04-27T08:28:41.601Z"
   },
   {
    "duration": 48,
    "start_time": "2024-04-27T08:28:41.622Z"
   },
   {
    "duration": 26,
    "start_time": "2024-04-27T08:28:41.671Z"
   },
   {
    "duration": 39,
    "start_time": "2024-04-27T08:28:41.698Z"
   },
   {
    "duration": 37,
    "start_time": "2024-04-27T08:28:41.739Z"
   },
   {
    "duration": 91,
    "start_time": "2024-04-27T08:28:41.780Z"
   },
   {
    "duration": 35,
    "start_time": "2024-04-27T08:28:41.872Z"
   },
   {
    "duration": 105,
    "start_time": "2024-04-27T08:28:41.908Z"
   },
   {
    "duration": 237,
    "start_time": "2024-04-27T08:28:42.015Z"
   },
   {
    "duration": 61,
    "start_time": "2024-04-27T08:28:42.254Z"
   },
   {
    "duration": 43,
    "start_time": "2024-04-27T08:28:42.316Z"
   },
   {
    "duration": 22,
    "start_time": "2024-04-27T08:28:42.360Z"
   },
   {
    "duration": 83,
    "start_time": "2024-04-27T08:28:42.384Z"
   },
   {
    "duration": 12,
    "start_time": "2024-04-27T08:28:42.468Z"
   },
   {
    "duration": 45,
    "start_time": "2024-04-27T08:28:42.481Z"
   },
   {
    "duration": 68,
    "start_time": "2024-04-27T08:28:42.527Z"
   },
   {
    "duration": 0,
    "start_time": "2024-04-27T08:28:42.598Z"
   },
   {
    "duration": 0,
    "start_time": "2024-04-27T08:28:42.599Z"
   },
   {
    "duration": 0,
    "start_time": "2024-04-27T08:28:42.601Z"
   },
   {
    "duration": 0,
    "start_time": "2024-04-27T08:28:42.602Z"
   },
   {
    "duration": 0,
    "start_time": "2024-04-27T08:28:42.604Z"
   },
   {
    "duration": 1,
    "start_time": "2024-04-27T08:28:42.605Z"
   },
   {
    "duration": 0,
    "start_time": "2024-04-27T08:28:42.607Z"
   },
   {
    "duration": 0,
    "start_time": "2024-04-27T08:28:42.608Z"
   },
   {
    "duration": 0,
    "start_time": "2024-04-27T08:28:42.610Z"
   },
   {
    "duration": 0,
    "start_time": "2024-04-27T08:28:42.611Z"
   },
   {
    "duration": 0,
    "start_time": "2024-04-27T08:28:42.613Z"
   },
   {
    "duration": 0,
    "start_time": "2024-04-27T08:28:42.614Z"
   },
   {
    "duration": 0,
    "start_time": "2024-04-27T08:28:42.615Z"
   },
   {
    "duration": 0,
    "start_time": "2024-04-27T08:28:42.617Z"
   },
   {
    "duration": 0,
    "start_time": "2024-04-27T08:28:42.618Z"
   },
   {
    "duration": 0,
    "start_time": "2024-04-27T08:28:42.620Z"
   },
   {
    "duration": 0,
    "start_time": "2024-04-27T08:28:42.621Z"
   },
   {
    "duration": 0,
    "start_time": "2024-04-27T08:28:42.623Z"
   },
   {
    "duration": 3,
    "start_time": "2024-04-27T08:36:17.638Z"
   },
   {
    "duration": 4,
    "start_time": "2024-04-27T08:36:21.719Z"
   },
   {
    "duration": 426,
    "start_time": "2024-04-27T08:36:33.172Z"
   },
   {
    "duration": 167,
    "start_time": "2024-04-27T08:36:33.600Z"
   },
   {
    "duration": 16,
    "start_time": "2024-04-27T08:36:33.769Z"
   },
   {
    "duration": 32,
    "start_time": "2024-04-27T08:36:33.794Z"
   },
   {
    "duration": 6,
    "start_time": "2024-04-27T08:36:33.828Z"
   },
   {
    "duration": 96,
    "start_time": "2024-04-27T08:36:33.836Z"
   },
   {
    "duration": 92,
    "start_time": "2024-04-27T08:36:33.934Z"
   },
   {
    "duration": 53,
    "start_time": "2024-04-27T08:36:34.028Z"
   },
   {
    "duration": 99,
    "start_time": "2024-04-27T08:36:34.083Z"
   },
   {
    "duration": 161,
    "start_time": "2024-04-27T08:36:34.185Z"
   },
   {
    "duration": 32,
    "start_time": "2024-04-27T08:36:34.348Z"
   },
   {
    "duration": 83,
    "start_time": "2024-04-27T08:36:34.393Z"
   },
   {
    "duration": 77,
    "start_time": "2024-04-27T08:36:34.477Z"
   },
   {
    "duration": 59,
    "start_time": "2024-04-27T08:36:34.556Z"
   },
   {
    "duration": 43,
    "start_time": "2024-04-27T08:36:34.616Z"
   },
   {
    "duration": 62,
    "start_time": "2024-04-27T08:36:34.660Z"
   },
   {
    "duration": 73,
    "start_time": "2024-04-27T08:36:34.723Z"
   },
   {
    "duration": 12,
    "start_time": "2024-04-27T08:36:34.798Z"
   },
   {
    "duration": 45,
    "start_time": "2024-04-27T08:36:34.811Z"
   },
   {
    "duration": 32,
    "start_time": "2024-04-27T08:36:34.858Z"
   },
   {
    "duration": 31,
    "start_time": "2024-04-27T08:36:34.892Z"
   },
   {
    "duration": 22,
    "start_time": "2024-04-27T08:36:34.925Z"
   },
   {
    "duration": 21,
    "start_time": "2024-04-27T08:36:34.949Z"
   },
   {
    "duration": 45,
    "start_time": "2024-04-27T08:36:34.972Z"
   },
   {
    "duration": 35,
    "start_time": "2024-04-27T08:36:35.019Z"
   },
   {
    "duration": 53,
    "start_time": "2024-04-27T08:36:35.055Z"
   },
   {
    "duration": 69,
    "start_time": "2024-04-27T08:36:35.110Z"
   },
   {
    "duration": 49,
    "start_time": "2024-04-27T08:36:35.182Z"
   },
   {
    "duration": 59,
    "start_time": "2024-04-27T08:36:35.232Z"
   },
   {
    "duration": 66,
    "start_time": "2024-04-27T08:36:35.292Z"
   },
   {
    "duration": 0,
    "start_time": "2024-04-27T08:36:35.360Z"
   },
   {
    "duration": 0,
    "start_time": "2024-04-27T08:36:35.361Z"
   },
   {
    "duration": 0,
    "start_time": "2024-04-27T08:36:35.363Z"
   },
   {
    "duration": 0,
    "start_time": "2024-04-27T08:36:35.364Z"
   },
   {
    "duration": 0,
    "start_time": "2024-04-27T08:36:35.366Z"
   },
   {
    "duration": 0,
    "start_time": "2024-04-27T08:36:35.367Z"
   },
   {
    "duration": 0,
    "start_time": "2024-04-27T08:36:35.369Z"
   },
   {
    "duration": 0,
    "start_time": "2024-04-27T08:36:35.370Z"
   },
   {
    "duration": 398,
    "start_time": "2024-04-27T08:57:00.903Z"
   },
   {
    "duration": 187,
    "start_time": "2024-04-27T08:57:01.303Z"
   },
   {
    "duration": 34,
    "start_time": "2024-04-27T08:57:01.493Z"
   },
   {
    "duration": 122,
    "start_time": "2024-04-27T08:57:01.529Z"
   },
   {
    "duration": 147,
    "start_time": "2024-04-27T08:57:01.654Z"
   },
   {
    "duration": 151,
    "start_time": "2024-04-27T08:57:01.802Z"
   },
   {
    "duration": 110,
    "start_time": "2024-04-27T08:57:01.955Z"
   },
   {
    "duration": 142,
    "start_time": "2024-04-27T08:57:02.067Z"
   },
   {
    "duration": 293,
    "start_time": "2024-04-27T08:57:02.210Z"
   },
   {
    "duration": 922,
    "start_time": "2024-04-27T08:57:02.505Z"
   },
   {
    "duration": 748,
    "start_time": "2024-04-27T08:57:03.429Z"
   },
   {
    "duration": 1039,
    "start_time": "2024-04-27T08:57:04.179Z"
   },
   {
    "duration": 455,
    "start_time": "2024-04-27T08:57:05.219Z"
   },
   {
    "duration": 223,
    "start_time": "2024-04-27T08:57:05.677Z"
   },
   {
    "duration": 127,
    "start_time": "2024-04-27T08:57:05.902Z"
   },
   {
    "duration": 266,
    "start_time": "2024-04-27T08:57:06.030Z"
   },
   {
    "duration": 538,
    "start_time": "2024-04-27T08:57:06.297Z"
   },
   {
    "duration": 583,
    "start_time": "2024-04-27T08:57:06.837Z"
   },
   {
    "duration": 376,
    "start_time": "2024-04-27T08:57:07.422Z"
   },
   {
    "duration": 749,
    "start_time": "2024-04-27T08:57:07.799Z"
   },
   {
    "duration": 696,
    "start_time": "2024-04-27T08:57:08.550Z"
   },
   {
    "duration": 0,
    "start_time": "2024-04-27T08:57:09.247Z"
   },
   {
    "duration": 0,
    "start_time": "2024-04-27T08:57:09.249Z"
   },
   {
    "duration": 0,
    "start_time": "2024-04-27T08:57:09.250Z"
   },
   {
    "duration": 0,
    "start_time": "2024-04-27T08:57:09.251Z"
   },
   {
    "duration": 0,
    "start_time": "2024-04-27T08:57:09.251Z"
   },
   {
    "duration": 0,
    "start_time": "2024-04-27T08:57:09.253Z"
   },
   {
    "duration": 0,
    "start_time": "2024-04-27T08:57:09.254Z"
   },
   {
    "duration": 0,
    "start_time": "2024-04-27T08:57:09.255Z"
   },
   {
    "duration": 0,
    "start_time": "2024-04-27T08:57:09.256Z"
   },
   {
    "duration": 0,
    "start_time": "2024-04-27T08:57:09.256Z"
   },
   {
    "duration": 0,
    "start_time": "2024-04-27T08:57:09.258Z"
   },
   {
    "duration": 0,
    "start_time": "2024-04-27T08:57:09.258Z"
   },
   {
    "duration": 0,
    "start_time": "2024-04-27T08:57:09.259Z"
   },
   {
    "duration": 0,
    "start_time": "2024-04-27T08:57:09.261Z"
   },
   {
    "duration": 0,
    "start_time": "2024-04-27T08:57:09.262Z"
   },
   {
    "duration": 0,
    "start_time": "2024-04-27T08:57:09.262Z"
   },
   {
    "duration": 0,
    "start_time": "2024-04-27T08:57:09.264Z"
   },
   {
    "duration": 5,
    "start_time": "2024-04-27T09:03:22.349Z"
   },
   {
    "duration": 3,
    "start_time": "2024-04-27T09:03:25.728Z"
   },
   {
    "duration": 36,
    "start_time": "2024-04-27T09:03:29.312Z"
   },
   {
    "duration": 19,
    "start_time": "2024-04-27T09:03:32.651Z"
   },
   {
    "duration": 3,
    "start_time": "2024-04-27T09:08:06.629Z"
   },
   {
    "duration": 2,
    "start_time": "2024-04-27T09:08:09.642Z"
   },
   {
    "duration": 3,
    "start_time": "2024-04-27T09:08:20.926Z"
   },
   {
    "duration": 391,
    "start_time": "2024-04-27T09:08:38.306Z"
   },
   {
    "duration": 175,
    "start_time": "2024-04-27T09:08:38.699Z"
   },
   {
    "duration": 17,
    "start_time": "2024-04-27T09:08:38.876Z"
   },
   {
    "duration": 45,
    "start_time": "2024-04-27T09:08:38.894Z"
   },
   {
    "duration": 15,
    "start_time": "2024-04-27T09:08:38.943Z"
   },
   {
    "duration": 36,
    "start_time": "2024-04-27T09:08:38.960Z"
   },
   {
    "duration": 66,
    "start_time": "2024-04-27T09:08:38.998Z"
   },
   {
    "duration": 63,
    "start_time": "2024-04-27T09:08:39.066Z"
   },
   {
    "duration": 44,
    "start_time": "2024-04-27T09:08:39.131Z"
   },
   {
    "duration": 112,
    "start_time": "2024-04-27T09:08:39.177Z"
   },
   {
    "duration": 27,
    "start_time": "2024-04-27T09:08:39.290Z"
   },
   {
    "duration": 96,
    "start_time": "2024-04-27T09:08:39.319Z"
   },
   {
    "duration": 84,
    "start_time": "2024-04-27T09:08:39.418Z"
   },
   {
    "duration": 94,
    "start_time": "2024-04-27T09:08:39.507Z"
   },
   {
    "duration": 43,
    "start_time": "2024-04-27T09:08:39.603Z"
   },
   {
    "duration": 18,
    "start_time": "2024-04-27T09:08:39.647Z"
   },
   {
    "duration": 55,
    "start_time": "2024-04-27T09:08:39.666Z"
   },
   {
    "duration": 16,
    "start_time": "2024-04-27T09:08:39.722Z"
   },
   {
    "duration": 36,
    "start_time": "2024-04-27T09:08:39.739Z"
   },
   {
    "duration": 13,
    "start_time": "2024-04-27T09:08:39.777Z"
   },
   {
    "duration": 9,
    "start_time": "2024-04-27T09:08:39.791Z"
   },
   {
    "duration": 6,
    "start_time": "2024-04-27T09:08:39.801Z"
   },
   {
    "duration": 5,
    "start_time": "2024-04-27T09:08:39.808Z"
   },
   {
    "duration": 13,
    "start_time": "2024-04-27T09:08:39.814Z"
   },
   {
    "duration": 26,
    "start_time": "2024-04-27T09:08:39.829Z"
   },
   {
    "duration": 23,
    "start_time": "2024-04-27T09:08:39.857Z"
   },
   {
    "duration": 4,
    "start_time": "2024-04-27T09:08:39.882Z"
   },
   {
    "duration": 5,
    "start_time": "2024-04-27T09:08:39.887Z"
   },
   {
    "duration": 70,
    "start_time": "2024-04-27T09:08:39.895Z"
   },
   {
    "duration": 0,
    "start_time": "2024-04-27T09:08:39.967Z"
   },
   {
    "duration": 0,
    "start_time": "2024-04-27T09:08:39.968Z"
   },
   {
    "duration": 0,
    "start_time": "2024-04-27T09:08:39.969Z"
   },
   {
    "duration": 0,
    "start_time": "2024-04-27T09:08:39.970Z"
   },
   {
    "duration": 0,
    "start_time": "2024-04-27T09:08:39.971Z"
   },
   {
    "duration": 1,
    "start_time": "2024-04-27T09:08:39.972Z"
   },
   {
    "duration": 1,
    "start_time": "2024-04-27T09:08:39.973Z"
   },
   {
    "duration": 0,
    "start_time": "2024-04-27T09:08:39.975Z"
   },
   {
    "duration": 3,
    "start_time": "2024-04-27T09:15:21.040Z"
   },
   {
    "duration": 3,
    "start_time": "2024-04-27T09:16:08.365Z"
   },
   {
    "duration": 382,
    "start_time": "2024-04-27T09:16:25.918Z"
   },
   {
    "duration": 181,
    "start_time": "2024-04-27T09:16:26.302Z"
   },
   {
    "duration": 17,
    "start_time": "2024-04-27T09:16:26.484Z"
   },
   {
    "duration": 53,
    "start_time": "2024-04-27T09:16:26.502Z"
   },
   {
    "duration": 32,
    "start_time": "2024-04-27T09:16:26.557Z"
   },
   {
    "duration": 41,
    "start_time": "2024-04-27T09:16:26.590Z"
   },
   {
    "duration": 23,
    "start_time": "2024-04-27T09:16:26.633Z"
   },
   {
    "duration": 24,
    "start_time": "2024-04-27T09:16:26.658Z"
   },
   {
    "duration": 44,
    "start_time": "2024-04-27T09:16:26.684Z"
   },
   {
    "duration": 86,
    "start_time": "2024-04-27T09:16:26.729Z"
   },
   {
    "duration": 29,
    "start_time": "2024-04-27T09:16:26.817Z"
   },
   {
    "duration": 90,
    "start_time": "2024-04-27T09:16:26.848Z"
   },
   {
    "duration": 116,
    "start_time": "2024-04-27T09:16:26.940Z"
   },
   {
    "duration": 75,
    "start_time": "2024-04-27T09:16:27.062Z"
   },
   {
    "duration": 72,
    "start_time": "2024-04-27T09:16:27.139Z"
   },
   {
    "duration": 16,
    "start_time": "2024-04-27T09:16:27.213Z"
   },
   {
    "duration": 71,
    "start_time": "2024-04-27T09:16:27.231Z"
   },
   {
    "duration": 12,
    "start_time": "2024-04-27T09:16:27.303Z"
   },
   {
    "duration": 37,
    "start_time": "2024-04-27T09:16:27.317Z"
   },
   {
    "duration": 36,
    "start_time": "2024-04-27T09:16:27.355Z"
   },
   {
    "duration": 30,
    "start_time": "2024-04-27T09:16:27.393Z"
   },
   {
    "duration": 24,
    "start_time": "2024-04-27T09:16:27.425Z"
   },
   {
    "duration": 36,
    "start_time": "2024-04-27T09:16:27.450Z"
   },
   {
    "duration": 25,
    "start_time": "2024-04-27T09:16:27.488Z"
   },
   {
    "duration": 27,
    "start_time": "2024-04-27T09:16:27.515Z"
   },
   {
    "duration": 24,
    "start_time": "2024-04-27T09:16:27.544Z"
   },
   {
    "duration": 21,
    "start_time": "2024-04-27T09:16:27.569Z"
   },
   {
    "duration": 23,
    "start_time": "2024-04-27T09:16:27.591Z"
   },
   {
    "duration": 92,
    "start_time": "2024-04-27T09:16:27.616Z"
   },
   {
    "duration": 0,
    "start_time": "2024-04-27T09:16:27.710Z"
   },
   {
    "duration": 0,
    "start_time": "2024-04-27T09:16:27.712Z"
   },
   {
    "duration": 0,
    "start_time": "2024-04-27T09:16:27.713Z"
   },
   {
    "duration": 0,
    "start_time": "2024-04-27T09:16:27.714Z"
   },
   {
    "duration": 0,
    "start_time": "2024-04-27T09:16:27.715Z"
   },
   {
    "duration": 0,
    "start_time": "2024-04-27T09:16:27.717Z"
   },
   {
    "duration": 0,
    "start_time": "2024-04-27T09:16:27.718Z"
   },
   {
    "duration": 0,
    "start_time": "2024-04-27T09:16:27.719Z"
   },
   {
    "duration": 18,
    "start_time": "2024-04-27T09:41:16.622Z"
   },
   {
    "duration": 472,
    "start_time": "2024-04-27T09:42:04.688Z"
   },
   {
    "duration": 179,
    "start_time": "2024-04-27T09:42:05.162Z"
   },
   {
    "duration": 18,
    "start_time": "2024-04-27T09:42:05.343Z"
   },
   {
    "duration": 172,
    "start_time": "2024-04-27T09:42:05.362Z"
   },
   {
    "duration": 15,
    "start_time": "2024-04-27T09:42:05.536Z"
   },
   {
    "duration": 36,
    "start_time": "2024-04-27T09:42:05.553Z"
   },
   {
    "duration": 32,
    "start_time": "2024-04-27T09:42:05.591Z"
   },
   {
    "duration": 45,
    "start_time": "2024-04-27T09:42:05.625Z"
   },
   {
    "duration": 73,
    "start_time": "2024-04-27T09:42:05.672Z"
   },
   {
    "duration": 69,
    "start_time": "2024-04-27T09:42:05.748Z"
   },
   {
    "duration": 41,
    "start_time": "2024-04-27T09:42:05.818Z"
   },
   {
    "duration": 74,
    "start_time": "2024-04-27T09:42:05.860Z"
   },
   {
    "duration": 98,
    "start_time": "2024-04-27T09:42:05.936Z"
   },
   {
    "duration": 68,
    "start_time": "2024-04-27T09:42:06.037Z"
   },
   {
    "duration": 88,
    "start_time": "2024-04-27T09:42:06.107Z"
   },
   {
    "duration": 19,
    "start_time": "2024-04-27T09:42:06.197Z"
   },
   {
    "duration": 90,
    "start_time": "2024-04-27T09:42:06.218Z"
   },
   {
    "duration": 20,
    "start_time": "2024-04-27T09:42:06.310Z"
   },
   {
    "duration": 22,
    "start_time": "2024-04-27T09:42:06.332Z"
   },
   {
    "duration": 6,
    "start_time": "2024-04-27T09:42:06.355Z"
   },
   {
    "duration": 38,
    "start_time": "2024-04-27T09:42:06.363Z"
   },
   {
    "duration": 30,
    "start_time": "2024-04-27T09:42:06.402Z"
   },
   {
    "duration": 22,
    "start_time": "2024-04-27T09:42:06.434Z"
   },
   {
    "duration": 32,
    "start_time": "2024-04-27T09:42:06.458Z"
   },
   {
    "duration": 42,
    "start_time": "2024-04-27T09:42:06.492Z"
   },
   {
    "duration": 28,
    "start_time": "2024-04-27T09:42:06.536Z"
   },
   {
    "duration": 39,
    "start_time": "2024-04-27T09:42:06.565Z"
   },
   {
    "duration": 54,
    "start_time": "2024-04-27T09:42:06.608Z"
   },
   {
    "duration": 47,
    "start_time": "2024-04-27T09:42:06.663Z"
   },
   {
    "duration": 77,
    "start_time": "2024-04-27T09:42:06.712Z"
   },
   {
    "duration": 0,
    "start_time": "2024-04-27T09:42:06.791Z"
   },
   {
    "duration": 0,
    "start_time": "2024-04-27T09:42:06.792Z"
   },
   {
    "duration": 0,
    "start_time": "2024-04-27T09:42:06.794Z"
   },
   {
    "duration": 0,
    "start_time": "2024-04-27T09:42:06.796Z"
   },
   {
    "duration": 0,
    "start_time": "2024-04-27T09:42:06.797Z"
   },
   {
    "duration": 0,
    "start_time": "2024-04-27T09:42:06.799Z"
   },
   {
    "duration": 0,
    "start_time": "2024-04-27T09:42:06.800Z"
   },
   {
    "duration": 0,
    "start_time": "2024-04-27T09:42:06.802Z"
   },
   {
    "duration": 64,
    "start_time": "2024-04-27T09:47:38.110Z"
   },
   {
    "duration": 8,
    "start_time": "2024-04-27T09:51:19.810Z"
   },
   {
    "duration": 383,
    "start_time": "2024-04-27T09:51:36.518Z"
   },
   {
    "duration": 179,
    "start_time": "2024-04-27T09:51:36.902Z"
   },
   {
    "duration": 17,
    "start_time": "2024-04-27T09:51:37.083Z"
   },
   {
    "duration": 61,
    "start_time": "2024-04-27T09:51:37.102Z"
   },
   {
    "duration": 3,
    "start_time": "2024-04-27T09:51:37.165Z"
   },
   {
    "duration": 10,
    "start_time": "2024-04-27T09:51:37.169Z"
   },
   {
    "duration": 14,
    "start_time": "2024-04-27T09:51:37.180Z"
   },
   {
    "duration": 16,
    "start_time": "2024-04-27T09:51:37.196Z"
   },
   {
    "duration": 40,
    "start_time": "2024-04-27T09:51:37.213Z"
   },
   {
    "duration": 66,
    "start_time": "2024-04-27T09:51:37.255Z"
   },
   {
    "duration": 28,
    "start_time": "2024-04-27T09:51:37.322Z"
   },
   {
    "duration": 73,
    "start_time": "2024-04-27T09:51:37.352Z"
   },
   {
    "duration": 103,
    "start_time": "2024-04-27T09:51:37.427Z"
   },
   {
    "duration": 71,
    "start_time": "2024-04-27T09:51:37.535Z"
   },
   {
    "duration": 42,
    "start_time": "2024-04-27T09:51:37.608Z"
   },
   {
    "duration": 12,
    "start_time": "2024-04-27T09:51:37.652Z"
   },
   {
    "duration": 78,
    "start_time": "2024-04-27T09:51:37.666Z"
   },
   {
    "duration": 13,
    "start_time": "2024-04-27T09:51:37.745Z"
   },
   {
    "duration": 59,
    "start_time": "2024-04-27T09:51:37.759Z"
   },
   {
    "duration": 3,
    "start_time": "2024-04-27T09:51:37.819Z"
   },
   {
    "duration": 91,
    "start_time": "2024-04-27T09:51:37.824Z"
   },
   {
    "duration": 0,
    "start_time": "2024-04-27T09:51:37.917Z"
   },
   {
    "duration": 0,
    "start_time": "2024-04-27T09:51:37.918Z"
   },
   {
    "duration": 0,
    "start_time": "2024-04-27T09:51:37.919Z"
   },
   {
    "duration": 0,
    "start_time": "2024-04-27T09:51:37.920Z"
   },
   {
    "duration": 0,
    "start_time": "2024-04-27T09:51:37.922Z"
   },
   {
    "duration": 0,
    "start_time": "2024-04-27T09:51:37.923Z"
   },
   {
    "duration": 0,
    "start_time": "2024-04-27T09:51:37.924Z"
   },
   {
    "duration": 0,
    "start_time": "2024-04-27T09:51:37.925Z"
   },
   {
    "duration": 0,
    "start_time": "2024-04-27T09:51:37.926Z"
   },
   {
    "duration": 0,
    "start_time": "2024-04-27T09:51:37.927Z"
   },
   {
    "duration": 0,
    "start_time": "2024-04-27T09:51:37.929Z"
   },
   {
    "duration": 0,
    "start_time": "2024-04-27T09:51:37.930Z"
   },
   {
    "duration": 0,
    "start_time": "2024-04-27T09:51:37.931Z"
   },
   {
    "duration": 0,
    "start_time": "2024-04-27T09:51:37.932Z"
   },
   {
    "duration": 0,
    "start_time": "2024-04-27T09:51:37.933Z"
   },
   {
    "duration": 0,
    "start_time": "2024-04-27T09:51:37.935Z"
   },
   {
    "duration": 0,
    "start_time": "2024-04-27T09:51:37.936Z"
   },
   {
    "duration": 8,
    "start_time": "2024-04-27T09:51:44.932Z"
   },
   {
    "duration": 17,
    "start_time": "2024-04-27T09:55:38.702Z"
   },
   {
    "duration": 14,
    "start_time": "2024-04-27T09:56:19.012Z"
   },
   {
    "duration": 15,
    "start_time": "2024-04-27T09:56:35.730Z"
   },
   {
    "duration": 453,
    "start_time": "2024-04-27T09:56:49.983Z"
   },
   {
    "duration": 178,
    "start_time": "2024-04-27T09:56:50.438Z"
   },
   {
    "duration": 16,
    "start_time": "2024-04-27T09:56:50.618Z"
   },
   {
    "duration": 74,
    "start_time": "2024-04-27T09:56:50.636Z"
   },
   {
    "duration": 38,
    "start_time": "2024-04-27T09:56:50.712Z"
   },
   {
    "duration": 28,
    "start_time": "2024-04-27T09:56:50.752Z"
   },
   {
    "duration": 30,
    "start_time": "2024-04-27T09:56:50.781Z"
   },
   {
    "duration": 25,
    "start_time": "2024-04-27T09:56:50.812Z"
   },
   {
    "duration": 55,
    "start_time": "2024-04-27T09:56:50.839Z"
   },
   {
    "duration": 100,
    "start_time": "2024-04-27T09:56:50.895Z"
   },
   {
    "duration": 27,
    "start_time": "2024-04-27T09:56:50.997Z"
   },
   {
    "duration": 80,
    "start_time": "2024-04-27T09:56:51.025Z"
   },
   {
    "duration": 76,
    "start_time": "2024-04-27T09:56:51.107Z"
   },
   {
    "duration": 59,
    "start_time": "2024-04-27T09:56:51.193Z"
   },
   {
    "duration": 58,
    "start_time": "2024-04-27T09:56:51.254Z"
   },
   {
    "duration": 12,
    "start_time": "2024-04-27T09:56:51.314Z"
   },
   {
    "duration": 50,
    "start_time": "2024-04-27T09:56:51.328Z"
   },
   {
    "duration": 21,
    "start_time": "2024-04-27T09:56:51.379Z"
   },
   {
    "duration": 11,
    "start_time": "2024-04-27T09:56:51.402Z"
   },
   {
    "duration": 37,
    "start_time": "2024-04-27T09:56:51.415Z"
   },
   {
    "duration": 97,
    "start_time": "2024-04-27T09:56:51.454Z"
   },
   {
    "duration": 0,
    "start_time": "2024-04-27T09:56:51.553Z"
   },
   {
    "duration": 0,
    "start_time": "2024-04-27T09:56:51.554Z"
   },
   {
    "duration": 0,
    "start_time": "2024-04-27T09:56:51.556Z"
   },
   {
    "duration": 0,
    "start_time": "2024-04-27T09:56:51.558Z"
   },
   {
    "duration": 0,
    "start_time": "2024-04-27T09:56:51.559Z"
   },
   {
    "duration": 0,
    "start_time": "2024-04-27T09:56:51.561Z"
   },
   {
    "duration": 0,
    "start_time": "2024-04-27T09:56:51.562Z"
   },
   {
    "duration": 0,
    "start_time": "2024-04-27T09:56:51.563Z"
   },
   {
    "duration": 0,
    "start_time": "2024-04-27T09:56:51.565Z"
   },
   {
    "duration": 0,
    "start_time": "2024-04-27T09:56:51.566Z"
   },
   {
    "duration": 0,
    "start_time": "2024-04-27T09:56:51.567Z"
   },
   {
    "duration": 0,
    "start_time": "2024-04-27T09:56:51.595Z"
   },
   {
    "duration": 0,
    "start_time": "2024-04-27T09:56:51.597Z"
   },
   {
    "duration": 0,
    "start_time": "2024-04-27T09:56:51.598Z"
   },
   {
    "duration": 0,
    "start_time": "2024-04-27T09:56:51.600Z"
   },
   {
    "duration": 0,
    "start_time": "2024-04-27T09:56:51.602Z"
   },
   {
    "duration": 0,
    "start_time": "2024-04-27T09:56:51.603Z"
   },
   {
    "duration": 15,
    "start_time": "2024-04-27T09:57:06.742Z"
   },
   {
    "duration": 407,
    "start_time": "2024-04-27T09:57:14.261Z"
   },
   {
    "duration": 191,
    "start_time": "2024-04-27T09:57:14.669Z"
   },
   {
    "duration": 17,
    "start_time": "2024-04-27T09:57:14.861Z"
   },
   {
    "duration": 67,
    "start_time": "2024-04-27T09:57:14.880Z"
   },
   {
    "duration": 33,
    "start_time": "2024-04-27T09:57:14.948Z"
   },
   {
    "duration": 69,
    "start_time": "2024-04-27T09:57:14.982Z"
   },
   {
    "duration": 49,
    "start_time": "2024-04-27T09:57:15.053Z"
   },
   {
    "duration": 61,
    "start_time": "2024-04-27T09:57:15.105Z"
   },
   {
    "duration": 64,
    "start_time": "2024-04-27T09:57:15.168Z"
   },
   {
    "duration": 88,
    "start_time": "2024-04-27T09:57:15.234Z"
   },
   {
    "duration": 27,
    "start_time": "2024-04-27T09:57:15.324Z"
   },
   {
    "duration": 138,
    "start_time": "2024-04-27T09:57:15.353Z"
   },
   {
    "duration": 90,
    "start_time": "2024-04-27T09:57:15.493Z"
   },
   {
    "duration": 80,
    "start_time": "2024-04-27T09:57:15.585Z"
   },
   {
    "duration": 64,
    "start_time": "2024-04-27T09:57:15.666Z"
   },
   {
    "duration": 18,
    "start_time": "2024-04-27T09:57:15.732Z"
   },
   {
    "duration": 68,
    "start_time": "2024-04-27T09:57:15.752Z"
   },
   {
    "duration": 12,
    "start_time": "2024-04-27T09:57:15.822Z"
   },
   {
    "duration": 34,
    "start_time": "2024-04-27T09:57:15.835Z"
   },
   {
    "duration": 20,
    "start_time": "2024-04-27T09:57:15.871Z"
   },
   {
    "duration": 120,
    "start_time": "2024-04-27T09:57:15.892Z"
   },
   {
    "duration": 0,
    "start_time": "2024-04-27T09:57:16.015Z"
   },
   {
    "duration": 0,
    "start_time": "2024-04-27T09:57:16.017Z"
   },
   {
    "duration": 0,
    "start_time": "2024-04-27T09:57:16.018Z"
   },
   {
    "duration": 0,
    "start_time": "2024-04-27T09:57:16.019Z"
   },
   {
    "duration": 0,
    "start_time": "2024-04-27T09:57:16.020Z"
   },
   {
    "duration": 0,
    "start_time": "2024-04-27T09:57:16.021Z"
   },
   {
    "duration": 0,
    "start_time": "2024-04-27T09:57:16.022Z"
   },
   {
    "duration": 0,
    "start_time": "2024-04-27T09:57:16.023Z"
   },
   {
    "duration": 0,
    "start_time": "2024-04-27T09:57:16.024Z"
   },
   {
    "duration": 0,
    "start_time": "2024-04-27T09:57:16.025Z"
   },
   {
    "duration": 0,
    "start_time": "2024-04-27T09:57:16.027Z"
   },
   {
    "duration": 0,
    "start_time": "2024-04-27T09:57:16.028Z"
   },
   {
    "duration": 0,
    "start_time": "2024-04-27T09:57:16.029Z"
   },
   {
    "duration": 0,
    "start_time": "2024-04-27T09:57:16.030Z"
   },
   {
    "duration": 0,
    "start_time": "2024-04-27T09:57:16.031Z"
   },
   {
    "duration": 0,
    "start_time": "2024-04-27T09:57:16.032Z"
   },
   {
    "duration": 0,
    "start_time": "2024-04-27T09:57:16.033Z"
   },
   {
    "duration": 5,
    "start_time": "2024-04-27T09:57:29.606Z"
   },
   {
    "duration": 15,
    "start_time": "2024-04-27T09:57:31.758Z"
   },
   {
    "duration": 15,
    "start_time": "2024-04-27T09:57:45.466Z"
   },
   {
    "duration": 16,
    "start_time": "2024-04-27T09:57:47.475Z"
   },
   {
    "duration": 7,
    "start_time": "2024-04-27T09:57:51.149Z"
   },
   {
    "duration": 402,
    "start_time": "2024-04-27T10:01:11.764Z"
   },
   {
    "duration": 190,
    "start_time": "2024-04-27T10:01:12.168Z"
   },
   {
    "duration": 17,
    "start_time": "2024-04-27T10:01:12.359Z"
   },
   {
    "duration": 52,
    "start_time": "2024-04-27T10:01:12.377Z"
   },
   {
    "duration": 10,
    "start_time": "2024-04-27T10:01:12.431Z"
   },
   {
    "duration": 40,
    "start_time": "2024-04-27T10:01:12.442Z"
   },
   {
    "duration": 35,
    "start_time": "2024-04-27T10:01:12.484Z"
   },
   {
    "duration": 25,
    "start_time": "2024-04-27T10:01:12.521Z"
   },
   {
    "duration": 50,
    "start_time": "2024-04-27T10:01:12.547Z"
   },
   {
    "duration": 65,
    "start_time": "2024-04-27T10:01:12.601Z"
   },
   {
    "duration": 33,
    "start_time": "2024-04-27T10:01:12.667Z"
   },
   {
    "duration": 77,
    "start_time": "2024-04-27T10:01:12.702Z"
   },
   {
    "duration": 113,
    "start_time": "2024-04-27T10:01:12.781Z"
   },
   {
    "duration": 77,
    "start_time": "2024-04-27T10:01:12.896Z"
   },
   {
    "duration": 61,
    "start_time": "2024-04-27T10:01:12.975Z"
   },
   {
    "duration": 12,
    "start_time": "2024-04-27T10:01:13.037Z"
   },
   {
    "duration": 62,
    "start_time": "2024-04-27T10:01:13.050Z"
   },
   {
    "duration": 12,
    "start_time": "2024-04-27T10:01:13.114Z"
   },
   {
    "duration": 18,
    "start_time": "2024-04-27T10:01:13.128Z"
   },
   {
    "duration": 23,
    "start_time": "2024-04-27T10:01:13.147Z"
   },
   {
    "duration": 81,
    "start_time": "2024-04-27T10:01:13.171Z"
   },
   {
    "duration": 0,
    "start_time": "2024-04-27T10:01:13.254Z"
   },
   {
    "duration": 0,
    "start_time": "2024-04-27T10:01:13.255Z"
   },
   {
    "duration": 0,
    "start_time": "2024-04-27T10:01:13.256Z"
   },
   {
    "duration": 0,
    "start_time": "2024-04-27T10:01:13.257Z"
   },
   {
    "duration": 0,
    "start_time": "2024-04-27T10:01:13.258Z"
   },
   {
    "duration": 0,
    "start_time": "2024-04-27T10:01:13.259Z"
   },
   {
    "duration": 0,
    "start_time": "2024-04-27T10:01:13.260Z"
   },
   {
    "duration": 0,
    "start_time": "2024-04-27T10:01:13.261Z"
   },
   {
    "duration": 0,
    "start_time": "2024-04-27T10:01:13.262Z"
   },
   {
    "duration": 0,
    "start_time": "2024-04-27T10:01:13.263Z"
   },
   {
    "duration": 0,
    "start_time": "2024-04-27T10:01:13.264Z"
   },
   {
    "duration": 0,
    "start_time": "2024-04-27T10:01:13.264Z"
   },
   {
    "duration": 0,
    "start_time": "2024-04-27T10:01:13.265Z"
   },
   {
    "duration": 0,
    "start_time": "2024-04-27T10:01:13.266Z"
   },
   {
    "duration": 0,
    "start_time": "2024-04-27T10:01:13.267Z"
   },
   {
    "duration": 0,
    "start_time": "2024-04-27T10:01:13.268Z"
   },
   {
    "duration": 0,
    "start_time": "2024-04-27T10:01:13.270Z"
   },
   {
    "duration": 10,
    "start_time": "2024-04-27T10:08:02.747Z"
   },
   {
    "duration": 24,
    "start_time": "2024-04-27T10:11:22.535Z"
   },
   {
    "duration": 14,
    "start_time": "2024-04-27T10:11:45.854Z"
   },
   {
    "duration": 17,
    "start_time": "2024-04-27T10:12:10.494Z"
   },
   {
    "duration": 402,
    "start_time": "2024-04-27T10:12:38.641Z"
   },
   {
    "duration": 184,
    "start_time": "2024-04-27T10:12:39.045Z"
   },
   {
    "duration": 16,
    "start_time": "2024-04-27T10:12:39.231Z"
   },
   {
    "duration": 57,
    "start_time": "2024-04-27T10:12:39.249Z"
   },
   {
    "duration": 81,
    "start_time": "2024-04-27T10:12:39.307Z"
   },
   {
    "duration": 46,
    "start_time": "2024-04-27T10:12:39.389Z"
   },
   {
    "duration": 35,
    "start_time": "2024-04-27T10:12:39.437Z"
   },
   {
    "duration": 45,
    "start_time": "2024-04-27T10:12:39.473Z"
   },
   {
    "duration": 74,
    "start_time": "2024-04-27T10:12:39.520Z"
   },
   {
    "duration": 68,
    "start_time": "2024-04-27T10:12:39.597Z"
   },
   {
    "duration": 26,
    "start_time": "2024-04-27T10:12:39.666Z"
   },
   {
    "duration": 107,
    "start_time": "2024-04-27T10:12:39.695Z"
   },
   {
    "duration": 114,
    "start_time": "2024-04-27T10:12:39.804Z"
   },
   {
    "duration": 75,
    "start_time": "2024-04-27T10:12:39.921Z"
   },
   {
    "duration": 100,
    "start_time": "2024-04-27T10:12:39.998Z"
   },
   {
    "duration": 17,
    "start_time": "2024-04-27T10:12:40.100Z"
   },
   {
    "duration": 63,
    "start_time": "2024-04-27T10:12:40.119Z"
   },
   {
    "duration": 22,
    "start_time": "2024-04-27T10:12:40.184Z"
   },
   {
    "duration": 79,
    "start_time": "2024-04-27T10:12:40.208Z"
   },
   {
    "duration": 82,
    "start_time": "2024-04-27T10:12:40.289Z"
   },
   {
    "duration": 103,
    "start_time": "2024-04-27T10:12:40.373Z"
   },
   {
    "duration": 0,
    "start_time": "2024-04-27T10:12:40.478Z"
   },
   {
    "duration": 0,
    "start_time": "2024-04-27T10:12:40.479Z"
   },
   {
    "duration": 0,
    "start_time": "2024-04-27T10:12:40.481Z"
   },
   {
    "duration": 0,
    "start_time": "2024-04-27T10:12:40.482Z"
   },
   {
    "duration": 0,
    "start_time": "2024-04-27T10:12:40.483Z"
   },
   {
    "duration": 0,
    "start_time": "2024-04-27T10:12:40.484Z"
   },
   {
    "duration": 0,
    "start_time": "2024-04-27T10:12:40.485Z"
   },
   {
    "duration": 0,
    "start_time": "2024-04-27T10:12:40.486Z"
   },
   {
    "duration": 0,
    "start_time": "2024-04-27T10:12:40.487Z"
   },
   {
    "duration": 0,
    "start_time": "2024-04-27T10:12:40.488Z"
   },
   {
    "duration": 0,
    "start_time": "2024-04-27T10:12:40.494Z"
   },
   {
    "duration": 0,
    "start_time": "2024-04-27T10:12:40.497Z"
   },
   {
    "duration": 0,
    "start_time": "2024-04-27T10:12:40.498Z"
   },
   {
    "duration": 0,
    "start_time": "2024-04-27T10:12:40.501Z"
   },
   {
    "duration": 0,
    "start_time": "2024-04-27T10:12:40.502Z"
   },
   {
    "duration": 0,
    "start_time": "2024-04-27T10:12:40.504Z"
   },
   {
    "duration": 0,
    "start_time": "2024-04-27T10:12:40.509Z"
   },
   {
    "duration": 17,
    "start_time": "2024-04-27T10:18:23.043Z"
   },
   {
    "duration": 19,
    "start_time": "2024-04-27T10:18:50.906Z"
   },
   {
    "duration": 24,
    "start_time": "2024-04-27T10:20:11.983Z"
   },
   {
    "duration": 21,
    "start_time": "2024-04-27T10:20:15.033Z"
   },
   {
    "duration": 380,
    "start_time": "2024-04-27T10:20:40.852Z"
   },
   {
    "duration": 191,
    "start_time": "2024-04-27T10:20:41.234Z"
   },
   {
    "duration": 20,
    "start_time": "2024-04-27T10:20:41.426Z"
   },
   {
    "duration": 52,
    "start_time": "2024-04-27T10:20:41.449Z"
   },
   {
    "duration": 17,
    "start_time": "2024-04-27T10:20:41.503Z"
   },
   {
    "duration": 38,
    "start_time": "2024-04-27T10:20:41.523Z"
   },
   {
    "duration": 36,
    "start_time": "2024-04-27T10:20:41.562Z"
   },
   {
    "duration": 30,
    "start_time": "2024-04-27T10:20:41.600Z"
   },
   {
    "duration": 54,
    "start_time": "2024-04-27T10:20:41.632Z"
   },
   {
    "duration": 74,
    "start_time": "2024-04-27T10:20:41.688Z"
   },
   {
    "duration": 28,
    "start_time": "2024-04-27T10:20:41.763Z"
   },
   {
    "duration": 93,
    "start_time": "2024-04-27T10:20:41.792Z"
   },
   {
    "duration": 81,
    "start_time": "2024-04-27T10:20:41.887Z"
   },
   {
    "duration": 71,
    "start_time": "2024-04-27T10:20:41.970Z"
   },
   {
    "duration": 51,
    "start_time": "2024-04-27T10:20:42.043Z"
   },
   {
    "duration": 17,
    "start_time": "2024-04-27T10:20:42.096Z"
   },
   {
    "duration": 125,
    "start_time": "2024-04-27T10:20:42.115Z"
   },
   {
    "duration": 12,
    "start_time": "2024-04-27T10:20:42.241Z"
   },
   {
    "duration": 34,
    "start_time": "2024-04-27T10:20:42.254Z"
   },
   {
    "duration": 45,
    "start_time": "2024-04-27T10:20:42.290Z"
   },
   {
    "duration": 82,
    "start_time": "2024-04-27T10:20:42.336Z"
   },
   {
    "duration": 18,
    "start_time": "2024-04-27T10:20:42.420Z"
   },
   {
    "duration": 40,
    "start_time": "2024-04-27T10:20:42.439Z"
   },
   {
    "duration": 24,
    "start_time": "2024-04-27T10:20:42.481Z"
   },
   {
    "duration": 31,
    "start_time": "2024-04-27T10:20:42.507Z"
   },
   {
    "duration": 23,
    "start_time": "2024-04-27T10:20:42.540Z"
   },
   {
    "duration": 18,
    "start_time": "2024-04-27T10:20:42.565Z"
   },
   {
    "duration": 34,
    "start_time": "2024-04-27T10:20:42.586Z"
   },
   {
    "duration": 19,
    "start_time": "2024-04-27T10:20:42.622Z"
   },
   {
    "duration": 68,
    "start_time": "2024-04-27T10:20:42.642Z"
   },
   {
    "duration": 0,
    "start_time": "2024-04-27T10:20:42.712Z"
   },
   {
    "duration": 0,
    "start_time": "2024-04-27T10:20:42.713Z"
   },
   {
    "duration": 0,
    "start_time": "2024-04-27T10:20:42.714Z"
   },
   {
    "duration": 0,
    "start_time": "2024-04-27T10:20:42.715Z"
   },
   {
    "duration": 0,
    "start_time": "2024-04-27T10:20:42.716Z"
   },
   {
    "duration": 0,
    "start_time": "2024-04-27T10:20:42.717Z"
   },
   {
    "duration": 0,
    "start_time": "2024-04-27T10:20:42.719Z"
   },
   {
    "duration": 0,
    "start_time": "2024-04-27T10:20:42.720Z"
   },
   {
    "duration": 11,
    "start_time": "2024-04-27T10:24:03.443Z"
   },
   {
    "duration": 12,
    "start_time": "2024-04-27T10:26:18.359Z"
   },
   {
    "duration": 6,
    "start_time": "2024-04-27T10:39:46.233Z"
   },
   {
    "duration": 3,
    "start_time": "2024-04-27T10:39:48.170Z"
   },
   {
    "duration": 18,
    "start_time": "2024-04-27T10:40:47.862Z"
   },
   {
    "duration": 64,
    "start_time": "2024-04-27T10:41:40.183Z"
   },
   {
    "duration": 7,
    "start_time": "2024-04-27T10:42:03.587Z"
   },
   {
    "duration": 19,
    "start_time": "2024-04-27T10:43:21.124Z"
   },
   {
    "duration": 65,
    "start_time": "2024-04-27T10:43:50.602Z"
   },
   {
    "duration": 77,
    "start_time": "2024-04-27T10:44:27.009Z"
   },
   {
    "duration": 435,
    "start_time": "2024-04-27T10:45:26.974Z"
   },
   {
    "duration": 183,
    "start_time": "2024-04-27T10:45:27.411Z"
   },
   {
    "duration": 16,
    "start_time": "2024-04-27T10:45:27.595Z"
   },
   {
    "duration": 41,
    "start_time": "2024-04-27T10:45:27.613Z"
   },
   {
    "duration": 19,
    "start_time": "2024-04-27T10:45:27.655Z"
   },
   {
    "duration": 24,
    "start_time": "2024-04-27T10:45:27.675Z"
   },
   {
    "duration": 8,
    "start_time": "2024-04-27T10:45:27.700Z"
   },
   {
    "duration": 19,
    "start_time": "2024-04-27T10:45:27.709Z"
   },
   {
    "duration": 57,
    "start_time": "2024-04-27T10:45:27.730Z"
   },
   {
    "duration": 55,
    "start_time": "2024-04-27T10:45:27.790Z"
   },
   {
    "duration": 25,
    "start_time": "2024-04-27T10:45:27.847Z"
   },
   {
    "duration": 80,
    "start_time": "2024-04-27T10:45:27.873Z"
   },
   {
    "duration": 76,
    "start_time": "2024-04-27T10:45:27.954Z"
   },
   {
    "duration": 67,
    "start_time": "2024-04-27T10:45:28.031Z"
   },
   {
    "duration": 43,
    "start_time": "2024-04-27T10:45:28.100Z"
   },
   {
    "duration": 12,
    "start_time": "2024-04-27T10:45:28.144Z"
   },
   {
    "duration": 61,
    "start_time": "2024-04-27T10:45:28.157Z"
   },
   {
    "duration": 12,
    "start_time": "2024-04-27T10:45:28.220Z"
   },
   {
    "duration": 39,
    "start_time": "2024-04-27T10:45:28.233Z"
   },
   {
    "duration": 23,
    "start_time": "2024-04-27T10:45:28.274Z"
   },
   {
    "duration": 37,
    "start_time": "2024-04-27T10:45:28.299Z"
   },
   {
    "duration": 20,
    "start_time": "2024-04-27T10:45:28.337Z"
   },
   {
    "duration": 57,
    "start_time": "2024-04-27T10:45:28.358Z"
   },
   {
    "duration": 30,
    "start_time": "2024-04-27T10:45:28.417Z"
   },
   {
    "duration": 36,
    "start_time": "2024-04-27T10:45:28.449Z"
   },
   {
    "duration": 26,
    "start_time": "2024-04-27T10:45:28.486Z"
   },
   {
    "duration": 20,
    "start_time": "2024-04-27T10:45:28.514Z"
   },
   {
    "duration": 23,
    "start_time": "2024-04-27T10:45:28.537Z"
   },
   {
    "duration": 18,
    "start_time": "2024-04-27T10:45:28.561Z"
   },
   {
    "duration": 5,
    "start_time": "2024-04-27T10:45:28.580Z"
   },
   {
    "duration": 42,
    "start_time": "2024-04-27T10:45:28.587Z"
   },
   {
    "duration": 78,
    "start_time": "2024-04-27T10:45:28.631Z"
   },
   {
    "duration": 0,
    "start_time": "2024-04-27T10:45:28.711Z"
   },
   {
    "duration": 0,
    "start_time": "2024-04-27T10:45:28.712Z"
   },
   {
    "duration": 0,
    "start_time": "2024-04-27T10:45:28.713Z"
   },
   {
    "duration": 0,
    "start_time": "2024-04-27T10:45:28.714Z"
   },
   {
    "duration": 0,
    "start_time": "2024-04-27T10:45:28.715Z"
   },
   {
    "duration": 0,
    "start_time": "2024-04-27T10:45:28.716Z"
   },
   {
    "duration": 10,
    "start_time": "2024-04-27T10:51:01.696Z"
   },
   {
    "duration": 375,
    "start_time": "2024-04-27T10:52:07.526Z"
   },
   {
    "duration": 188,
    "start_time": "2024-04-27T10:52:07.903Z"
   },
   {
    "duration": 18,
    "start_time": "2024-04-27T10:52:08.095Z"
   },
   {
    "duration": 34,
    "start_time": "2024-04-27T10:52:08.115Z"
   },
   {
    "duration": 6,
    "start_time": "2024-04-27T10:52:08.150Z"
   },
   {
    "duration": 31,
    "start_time": "2024-04-27T10:52:08.157Z"
   },
   {
    "duration": 12,
    "start_time": "2024-04-27T10:52:08.190Z"
   },
   {
    "duration": 40,
    "start_time": "2024-04-27T10:52:08.203Z"
   },
   {
    "duration": 44,
    "start_time": "2024-04-27T10:52:08.245Z"
   },
   {
    "duration": 67,
    "start_time": "2024-04-27T10:52:08.290Z"
   },
   {
    "duration": 25,
    "start_time": "2024-04-27T10:52:08.359Z"
   },
   {
    "duration": 73,
    "start_time": "2024-04-27T10:52:08.386Z"
   },
   {
    "duration": 78,
    "start_time": "2024-04-27T10:52:08.461Z"
   },
   {
    "duration": 60,
    "start_time": "2024-04-27T10:52:08.541Z"
   },
   {
    "duration": 43,
    "start_time": "2024-04-27T10:52:08.603Z"
   },
   {
    "duration": 12,
    "start_time": "2024-04-27T10:52:08.647Z"
   },
   {
    "duration": 66,
    "start_time": "2024-04-27T10:52:08.660Z"
   },
   {
    "duration": 12,
    "start_time": "2024-04-27T10:52:08.727Z"
   },
   {
    "duration": 11,
    "start_time": "2024-04-27T10:52:08.741Z"
   },
   {
    "duration": 4,
    "start_time": "2024-04-27T10:52:08.753Z"
   },
   {
    "duration": 36,
    "start_time": "2024-04-27T10:52:08.758Z"
   },
   {
    "duration": 14,
    "start_time": "2024-04-27T10:52:08.795Z"
   },
   {
    "duration": 15,
    "start_time": "2024-04-27T10:52:08.810Z"
   },
   {
    "duration": 17,
    "start_time": "2024-04-27T10:52:08.826Z"
   },
   {
    "duration": 15,
    "start_time": "2024-04-27T10:52:08.845Z"
   },
   {
    "duration": 37,
    "start_time": "2024-04-27T10:52:08.861Z"
   },
   {
    "duration": 7,
    "start_time": "2024-04-27T10:52:08.901Z"
   },
   {
    "duration": 16,
    "start_time": "2024-04-27T10:52:08.909Z"
   },
   {
    "duration": 14,
    "start_time": "2024-04-27T10:52:08.927Z"
   },
   {
    "duration": 6,
    "start_time": "2024-04-27T10:52:08.942Z"
   },
   {
    "duration": 29,
    "start_time": "2024-04-27T10:52:08.949Z"
   },
   {
    "duration": 72,
    "start_time": "2024-04-27T10:52:08.980Z"
   },
   {
    "duration": 0,
    "start_time": "2024-04-27T10:52:09.054Z"
   },
   {
    "duration": 0,
    "start_time": "2024-04-27T10:52:09.055Z"
   },
   {
    "duration": 0,
    "start_time": "2024-04-27T10:52:09.056Z"
   },
   {
    "duration": 0,
    "start_time": "2024-04-27T10:52:09.057Z"
   },
   {
    "duration": 0,
    "start_time": "2024-04-27T10:52:09.058Z"
   },
   {
    "duration": 0,
    "start_time": "2024-04-27T10:52:09.059Z"
   },
   {
    "duration": 18,
    "start_time": "2024-04-27T10:52:49.177Z"
   },
   {
    "duration": 8,
    "start_time": "2024-04-27T11:13:50.845Z"
   },
   {
    "duration": 68,
    "start_time": "2024-04-27T11:36:09.798Z"
   },
   {
    "duration": 20,
    "start_time": "2024-04-27T11:36:15.636Z"
   },
   {
    "duration": 76,
    "start_time": "2024-04-27T11:36:17.946Z"
   },
   {
    "duration": 19,
    "start_time": "2024-04-27T12:08:17.658Z"
   },
   {
    "duration": 401,
    "start_time": "2024-04-27T12:08:25.119Z"
   },
   {
    "duration": 191,
    "start_time": "2024-04-27T12:08:25.522Z"
   },
   {
    "duration": 18,
    "start_time": "2024-04-27T12:08:25.715Z"
   },
   {
    "duration": 47,
    "start_time": "2024-04-27T12:08:25.736Z"
   },
   {
    "duration": 11,
    "start_time": "2024-04-27T12:08:25.785Z"
   },
   {
    "duration": 34,
    "start_time": "2024-04-27T12:08:25.797Z"
   },
   {
    "duration": 45,
    "start_time": "2024-04-27T12:08:25.833Z"
   },
   {
    "duration": 30,
    "start_time": "2024-04-27T12:08:25.879Z"
   },
   {
    "duration": 43,
    "start_time": "2024-04-27T12:08:25.911Z"
   },
   {
    "duration": 58,
    "start_time": "2024-04-27T12:08:25.957Z"
   },
   {
    "duration": 28,
    "start_time": "2024-04-27T12:08:26.016Z"
   },
   {
    "duration": 74,
    "start_time": "2024-04-27T12:08:26.046Z"
   },
   {
    "duration": 82,
    "start_time": "2024-04-27T12:08:26.123Z"
   },
   {
    "duration": 63,
    "start_time": "2024-04-27T12:08:26.206Z"
   },
   {
    "duration": 60,
    "start_time": "2024-04-27T12:08:26.271Z"
   },
   {
    "duration": 24,
    "start_time": "2024-04-27T12:08:26.332Z"
   },
   {
    "duration": 85,
    "start_time": "2024-04-27T12:08:26.358Z"
   },
   {
    "duration": 35,
    "start_time": "2024-04-27T12:08:26.445Z"
   },
   {
    "duration": 39,
    "start_time": "2024-04-27T12:08:26.482Z"
   },
   {
    "duration": 25,
    "start_time": "2024-04-27T12:08:26.523Z"
   },
   {
    "duration": 28,
    "start_time": "2024-04-27T12:08:26.550Z"
   },
   {
    "duration": 55,
    "start_time": "2024-04-27T12:08:26.580Z"
   },
   {
    "duration": 40,
    "start_time": "2024-04-27T12:08:26.637Z"
   },
   {
    "duration": 40,
    "start_time": "2024-04-27T12:08:26.679Z"
   },
   {
    "duration": 23,
    "start_time": "2024-04-27T12:08:26.720Z"
   },
   {
    "duration": 24,
    "start_time": "2024-04-27T12:08:26.744Z"
   },
   {
    "duration": 27,
    "start_time": "2024-04-27T12:08:26.770Z"
   },
   {
    "duration": 23,
    "start_time": "2024-04-27T12:08:26.800Z"
   },
   {
    "duration": 41,
    "start_time": "2024-04-27T12:08:26.824Z"
   },
   {
    "duration": 36,
    "start_time": "2024-04-27T12:08:26.867Z"
   },
   {
    "duration": 28,
    "start_time": "2024-04-27T12:08:26.905Z"
   },
   {
    "duration": 74,
    "start_time": "2024-04-27T12:08:26.934Z"
   },
   {
    "duration": 0,
    "start_time": "2024-04-27T12:08:27.010Z"
   },
   {
    "duration": 0,
    "start_time": "2024-04-27T12:08:27.011Z"
   },
   {
    "duration": 0,
    "start_time": "2024-04-27T12:08:27.013Z"
   },
   {
    "duration": 0,
    "start_time": "2024-04-27T12:08:27.015Z"
   },
   {
    "duration": 0,
    "start_time": "2024-04-27T12:08:27.016Z"
   },
   {
    "duration": 0,
    "start_time": "2024-04-27T12:08:27.017Z"
   },
   {
    "duration": 19,
    "start_time": "2024-04-27T12:08:30.898Z"
   },
   {
    "duration": 75,
    "start_time": "2024-04-27T12:08:33.868Z"
   },
   {
    "duration": 420,
    "start_time": "2024-04-27T13:35:12.777Z"
   },
   {
    "duration": 171,
    "start_time": "2024-04-27T13:35:13.198Z"
   },
   {
    "duration": 16,
    "start_time": "2024-04-27T13:35:13.370Z"
   },
   {
    "duration": 37,
    "start_time": "2024-04-27T13:35:13.393Z"
   },
   {
    "duration": 7,
    "start_time": "2024-04-27T13:35:13.432Z"
   },
   {
    "duration": 10,
    "start_time": "2024-04-27T13:35:13.440Z"
   },
   {
    "duration": 5,
    "start_time": "2024-04-27T13:35:13.451Z"
   },
   {
    "duration": 7,
    "start_time": "2024-04-27T13:35:13.458Z"
   },
   {
    "duration": 41,
    "start_time": "2024-04-27T13:35:13.468Z"
   },
   {
    "duration": 51,
    "start_time": "2024-04-27T13:35:13.512Z"
   },
   {
    "duration": 35,
    "start_time": "2024-04-27T13:35:13.565Z"
   },
   {
    "duration": 86,
    "start_time": "2024-04-27T13:35:13.602Z"
   },
   {
    "duration": 77,
    "start_time": "2024-04-27T13:35:13.690Z"
   },
   {
    "duration": 64,
    "start_time": "2024-04-27T13:35:13.769Z"
   },
   {
    "duration": 43,
    "start_time": "2024-04-27T13:35:13.835Z"
   },
   {
    "duration": 15,
    "start_time": "2024-04-27T13:35:13.897Z"
   },
   {
    "duration": 60,
    "start_time": "2024-04-27T13:35:13.914Z"
   },
   {
    "duration": 21,
    "start_time": "2024-04-27T13:35:13.976Z"
   },
   {
    "duration": 41,
    "start_time": "2024-04-27T13:35:13.999Z"
   },
   {
    "duration": 19,
    "start_time": "2024-04-27T13:35:14.041Z"
   },
   {
    "duration": 44,
    "start_time": "2024-04-27T13:35:14.062Z"
   },
   {
    "duration": 16,
    "start_time": "2024-04-27T13:35:14.107Z"
   },
   {
    "duration": 23,
    "start_time": "2024-04-27T13:35:14.124Z"
   },
   {
    "duration": 22,
    "start_time": "2024-04-27T13:35:14.148Z"
   },
   {
    "duration": 29,
    "start_time": "2024-04-27T13:35:14.171Z"
   },
   {
    "duration": 38,
    "start_time": "2024-04-27T13:35:14.202Z"
   },
   {
    "duration": 10,
    "start_time": "2024-04-27T13:35:14.242Z"
   },
   {
    "duration": 19,
    "start_time": "2024-04-27T13:35:14.255Z"
   },
   {
    "duration": 11,
    "start_time": "2024-04-27T13:35:14.275Z"
   },
   {
    "duration": 37,
    "start_time": "2024-04-27T13:35:14.287Z"
   },
   {
    "duration": 33,
    "start_time": "2024-04-27T13:35:14.326Z"
   },
   {
    "duration": 75,
    "start_time": "2024-04-27T13:35:14.360Z"
   },
   {
    "duration": 0,
    "start_time": "2024-04-27T13:35:14.437Z"
   },
   {
    "duration": 0,
    "start_time": "2024-04-27T13:35:14.438Z"
   },
   {
    "duration": 0,
    "start_time": "2024-04-27T13:35:14.439Z"
   },
   {
    "duration": 0,
    "start_time": "2024-04-27T13:35:14.440Z"
   },
   {
    "duration": 0,
    "start_time": "2024-04-27T13:35:14.441Z"
   },
   {
    "duration": 0,
    "start_time": "2024-04-27T13:35:14.442Z"
   },
   {
    "duration": 25,
    "start_time": "2024-04-27T13:52:28.278Z"
   },
   {
    "duration": 89,
    "start_time": "2024-04-27T13:52:34.976Z"
   },
   {
    "duration": 4,
    "start_time": "2024-04-27T14:03:11.434Z"
   },
   {
    "duration": 76,
    "start_time": "2024-04-27T14:03:50.700Z"
   },
   {
    "duration": 5,
    "start_time": "2024-04-27T14:04:00.217Z"
   },
   {
    "duration": 17,
    "start_time": "2024-04-27T14:04:04.915Z"
   },
   {
    "duration": 67,
    "start_time": "2024-04-28T15:58:52.172Z"
   },
   {
    "duration": 5,
    "start_time": "2024-04-28T17:49:57.525Z"
   },
   {
    "duration": 375,
    "start_time": "2024-04-28T17:50:20.825Z"
   },
   {
    "duration": 252,
    "start_time": "2024-04-28T17:50:21.202Z"
   },
   {
    "duration": 17,
    "start_time": "2024-04-28T17:50:21.456Z"
   },
   {
    "duration": 34,
    "start_time": "2024-04-28T17:50:21.474Z"
   },
   {
    "duration": 2,
    "start_time": "2024-04-28T17:50:21.510Z"
   },
   {
    "duration": 8,
    "start_time": "2024-04-28T17:50:21.514Z"
   },
   {
    "duration": 11,
    "start_time": "2024-04-28T17:50:21.524Z"
   },
   {
    "duration": 5,
    "start_time": "2024-04-28T17:50:21.537Z"
   },
   {
    "duration": 41,
    "start_time": "2024-04-28T17:50:21.544Z"
   },
   {
    "duration": 49,
    "start_time": "2024-04-28T17:50:21.588Z"
   },
   {
    "duration": 42,
    "start_time": "2024-04-28T17:50:21.639Z"
   },
   {
    "duration": 67,
    "start_time": "2024-04-28T17:50:21.682Z"
   },
   {
    "duration": 92,
    "start_time": "2024-04-28T17:50:21.750Z"
   },
   {
    "duration": 73,
    "start_time": "2024-04-28T17:50:21.844Z"
   },
   {
    "duration": 45,
    "start_time": "2024-04-28T17:50:21.918Z"
   },
   {
    "duration": 21,
    "start_time": "2024-04-28T17:50:21.965Z"
   },
   {
    "duration": 45,
    "start_time": "2024-04-28T17:50:21.987Z"
   },
   {
    "duration": 13,
    "start_time": "2024-04-28T17:50:22.034Z"
   },
   {
    "duration": 41,
    "start_time": "2024-04-28T17:50:22.048Z"
   },
   {
    "duration": 3,
    "start_time": "2024-04-28T17:50:22.091Z"
   },
   {
    "duration": 24,
    "start_time": "2024-04-28T17:50:22.096Z"
   },
   {
    "duration": 16,
    "start_time": "2024-04-28T17:50:22.122Z"
   },
   {
    "duration": 42,
    "start_time": "2024-04-28T17:50:22.140Z"
   },
   {
    "duration": 15,
    "start_time": "2024-04-28T17:50:22.183Z"
   },
   {
    "duration": 17,
    "start_time": "2024-04-28T17:50:22.200Z"
   },
   {
    "duration": 19,
    "start_time": "2024-04-28T17:50:22.218Z"
   },
   {
    "duration": 12,
    "start_time": "2024-04-28T17:50:22.239Z"
   },
   {
    "duration": 16,
    "start_time": "2024-04-28T17:50:22.283Z"
   },
   {
    "duration": 15,
    "start_time": "2024-04-28T17:50:22.301Z"
   },
   {
    "duration": 4,
    "start_time": "2024-04-28T17:50:22.318Z"
   },
   {
    "duration": 1154,
    "start_time": "2024-04-28T17:50:22.323Z"
   },
   {
    "duration": 0,
    "start_time": "2024-04-28T17:50:23.478Z"
   },
   {
    "duration": 0,
    "start_time": "2024-04-28T17:50:23.480Z"
   },
   {
    "duration": 0,
    "start_time": "2024-04-28T17:50:23.481Z"
   },
   {
    "duration": 0,
    "start_time": "2024-04-28T17:50:23.482Z"
   },
   {
    "duration": 0,
    "start_time": "2024-04-28T17:50:23.483Z"
   },
   {
    "duration": 0,
    "start_time": "2024-04-28T17:50:23.485Z"
   },
   {
    "duration": 0,
    "start_time": "2024-04-28T17:50:23.485Z"
   },
   {
    "duration": 63,
    "start_time": "2024-04-28T17:50:54.760Z"
   },
   {
    "duration": 71,
    "start_time": "2024-04-28T17:50:59.284Z"
   },
   {
    "duration": 3,
    "start_time": "2024-04-28T17:52:52.385Z"
   },
   {
    "duration": 19,
    "start_time": "2024-04-28T17:52:54.491Z"
   },
   {
    "duration": 66,
    "start_time": "2024-04-28T17:52:55.699Z"
   },
   {
    "duration": 17,
    "start_time": "2024-04-28T17:52:56.950Z"
   },
   {
    "duration": 11,
    "start_time": "2024-04-28T18:06:51.582Z"
   },
   {
    "duration": 438,
    "start_time": "2024-04-28T18:07:14.378Z"
   },
   {
    "duration": 195,
    "start_time": "2024-04-28T18:07:14.818Z"
   },
   {
    "duration": 19,
    "start_time": "2024-04-28T18:07:15.014Z"
   },
   {
    "duration": 52,
    "start_time": "2024-04-28T18:07:15.035Z"
   },
   {
    "duration": 18,
    "start_time": "2024-04-28T18:07:15.089Z"
   },
   {
    "duration": 33,
    "start_time": "2024-04-28T18:07:15.109Z"
   },
   {
    "duration": 11,
    "start_time": "2024-04-28T18:07:15.145Z"
   },
   {
    "duration": 43,
    "start_time": "2024-04-28T18:07:15.158Z"
   },
   {
    "duration": 43,
    "start_time": "2024-04-28T18:07:15.203Z"
   },
   {
    "duration": 101,
    "start_time": "2024-04-28T18:07:15.250Z"
   },
   {
    "duration": 29,
    "start_time": "2024-04-28T18:07:15.353Z"
   },
   {
    "duration": 90,
    "start_time": "2024-04-28T18:07:15.384Z"
   },
   {
    "duration": 84,
    "start_time": "2024-04-28T18:07:15.475Z"
   },
   {
    "duration": 73,
    "start_time": "2024-04-28T18:07:15.560Z"
   },
   {
    "duration": 50,
    "start_time": "2024-04-28T18:07:15.634Z"
   },
   {
    "duration": 13,
    "start_time": "2024-04-28T18:07:15.686Z"
   },
   {
    "duration": 45,
    "start_time": "2024-04-28T18:07:15.701Z"
   },
   {
    "duration": 38,
    "start_time": "2024-04-28T18:07:15.748Z"
   },
   {
    "duration": 12,
    "start_time": "2024-04-28T18:07:15.788Z"
   },
   {
    "duration": 7,
    "start_time": "2024-04-28T18:07:15.802Z"
   },
   {
    "duration": 42,
    "start_time": "2024-04-28T18:07:15.811Z"
   },
   {
    "duration": 27,
    "start_time": "2024-04-28T18:07:15.855Z"
   },
   {
    "duration": 16,
    "start_time": "2024-04-28T18:07:15.884Z"
   },
   {
    "duration": 16,
    "start_time": "2024-04-28T18:07:15.901Z"
   },
   {
    "duration": 20,
    "start_time": "2024-04-28T18:07:15.919Z"
   },
   {
    "duration": 45,
    "start_time": "2024-04-28T18:07:15.941Z"
   },
   {
    "duration": 16,
    "start_time": "2024-04-28T18:07:15.988Z"
   },
   {
    "duration": 20,
    "start_time": "2024-04-28T18:07:16.009Z"
   },
   {
    "duration": 16,
    "start_time": "2024-04-28T18:07:16.031Z"
   },
   {
    "duration": 5,
    "start_time": "2024-04-28T18:07:16.049Z"
   },
   {
    "duration": 38,
    "start_time": "2024-04-28T18:07:16.056Z"
   },
   {
    "duration": 68,
    "start_time": "2024-04-28T18:07:16.095Z"
   },
   {
    "duration": 0,
    "start_time": "2024-04-28T18:07:16.165Z"
   },
   {
    "duration": 0,
    "start_time": "2024-04-28T18:07:16.166Z"
   },
   {
    "duration": 0,
    "start_time": "2024-04-28T18:07:16.167Z"
   },
   {
    "duration": 0,
    "start_time": "2024-04-28T18:07:16.169Z"
   },
   {
    "duration": 0,
    "start_time": "2024-04-28T18:07:16.170Z"
   },
   {
    "duration": 0,
    "start_time": "2024-04-28T18:07:16.171Z"
   },
   {
    "duration": 71,
    "start_time": "2024-04-28T18:07:24.740Z"
   },
   {
    "duration": 17,
    "start_time": "2024-04-28T18:09:26.541Z"
   },
   {
    "duration": 13,
    "start_time": "2024-04-28T18:09:27.264Z"
   },
   {
    "duration": 4,
    "start_time": "2024-04-28T18:09:28.275Z"
   },
   {
    "duration": 22,
    "start_time": "2024-04-28T18:09:30.270Z"
   },
   {
    "duration": 19,
    "start_time": "2024-04-28T18:09:46.190Z"
   },
   {
    "duration": 13,
    "start_time": "2024-04-28T18:09:57.985Z"
   },
   {
    "duration": 74,
    "start_time": "2024-04-28T18:10:12.295Z"
   },
   {
    "duration": 47,
    "start_time": "2024-04-29T08:52:33.896Z"
   },
   {
    "duration": 6,
    "start_time": "2024-04-29T08:52:50.258Z"
   },
   {
    "duration": 402,
    "start_time": "2024-04-29T08:53:13.912Z"
   },
   {
    "duration": 248,
    "start_time": "2024-04-29T08:53:14.316Z"
   },
   {
    "duration": 15,
    "start_time": "2024-04-29T08:53:14.566Z"
   },
   {
    "duration": 31,
    "start_time": "2024-04-29T08:53:14.583Z"
   },
   {
    "duration": 3,
    "start_time": "2024-04-29T08:53:14.616Z"
   },
   {
    "duration": 23,
    "start_time": "2024-04-29T08:53:14.620Z"
   },
   {
    "duration": 4,
    "start_time": "2024-04-29T08:53:14.645Z"
   },
   {
    "duration": 6,
    "start_time": "2024-04-29T08:53:14.651Z"
   },
   {
    "duration": 32,
    "start_time": "2024-04-29T08:53:14.659Z"
   },
   {
    "duration": 52,
    "start_time": "2024-04-29T08:53:14.695Z"
   },
   {
    "duration": 25,
    "start_time": "2024-04-29T08:53:14.749Z"
   },
   {
    "duration": 94,
    "start_time": "2024-04-29T08:53:14.776Z"
   },
   {
    "duration": 84,
    "start_time": "2024-04-29T08:53:14.871Z"
   },
   {
    "duration": 90,
    "start_time": "2024-04-29T08:53:14.958Z"
   },
   {
    "duration": 55,
    "start_time": "2024-04-29T08:53:15.050Z"
   },
   {
    "duration": 112,
    "start_time": "2024-04-29T08:53:15.107Z"
   },
   {
    "duration": 116,
    "start_time": "2024-04-29T08:53:15.220Z"
   },
   {
    "duration": 14,
    "start_time": "2024-04-29T08:53:15.338Z"
   },
   {
    "duration": 41,
    "start_time": "2024-04-29T08:53:15.354Z"
   },
   {
    "duration": 100,
    "start_time": "2024-04-29T08:53:15.397Z"
   },
   {
    "duration": 25,
    "start_time": "2024-04-29T08:53:15.498Z"
   },
   {
    "duration": 22,
    "start_time": "2024-04-29T08:53:15.525Z"
   },
   {
    "duration": 38,
    "start_time": "2024-04-29T08:53:15.551Z"
   },
   {
    "duration": 17,
    "start_time": "2024-04-29T08:53:15.590Z"
   },
   {
    "duration": 23,
    "start_time": "2024-04-29T08:53:15.609Z"
   },
   {
    "duration": 34,
    "start_time": "2024-04-29T08:53:15.634Z"
   },
   {
    "duration": 14,
    "start_time": "2024-04-29T08:53:15.669Z"
   },
   {
    "duration": 13,
    "start_time": "2024-04-29T08:53:15.686Z"
   },
   {
    "duration": 11,
    "start_time": "2024-04-29T08:53:15.700Z"
   },
   {
    "duration": 8,
    "start_time": "2024-04-29T08:53:15.713Z"
   },
   {
    "duration": 38,
    "start_time": "2024-04-29T08:53:15.722Z"
   },
   {
    "duration": 105,
    "start_time": "2024-04-29T08:53:15.762Z"
   },
   {
    "duration": 0,
    "start_time": "2024-04-29T08:53:15.869Z"
   },
   {
    "duration": 0,
    "start_time": "2024-04-29T08:53:15.870Z"
   },
   {
    "duration": 0,
    "start_time": "2024-04-29T08:53:15.871Z"
   },
   {
    "duration": 0,
    "start_time": "2024-04-29T08:53:15.872Z"
   },
   {
    "duration": 0,
    "start_time": "2024-04-29T08:53:15.873Z"
   },
   {
    "duration": 0,
    "start_time": "2024-04-29T08:53:15.874Z"
   },
   {
    "duration": 11,
    "start_time": "2024-04-29T08:53:28.539Z"
   },
   {
    "duration": 17,
    "start_time": "2024-04-29T08:55:17.746Z"
   },
   {
    "duration": 11,
    "start_time": "2024-04-29T08:55:20.765Z"
   },
   {
    "duration": 16,
    "start_time": "2024-04-29T08:55:31.369Z"
   },
   {
    "duration": 12,
    "start_time": "2024-04-29T09:22:00.439Z"
   },
   {
    "duration": 63,
    "start_time": "2024-04-29T09:26:02.876Z"
   },
   {
    "duration": 5,
    "start_time": "2024-04-29T09:26:26.017Z"
   },
   {
    "duration": 389,
    "start_time": "2024-12-12T14:15:23.174Z"
   },
   {
    "duration": 465,
    "start_time": "2024-12-12T14:15:23.565Z"
   },
   {
    "duration": 18,
    "start_time": "2024-12-12T14:15:24.031Z"
   },
   {
    "duration": 33,
    "start_time": "2024-12-12T14:15:24.052Z"
   },
   {
    "duration": 16,
    "start_time": "2024-12-12T14:15:24.086Z"
   },
   {
    "duration": 12,
    "start_time": "2024-12-12T14:15:24.103Z"
   },
   {
    "duration": 22,
    "start_time": "2024-12-12T14:15:24.116Z"
   },
   {
    "duration": 15,
    "start_time": "2024-12-12T14:15:24.139Z"
   },
   {
    "duration": 69,
    "start_time": "2024-12-12T14:15:24.156Z"
   },
   {
    "duration": 48,
    "start_time": "2024-12-12T14:15:24.228Z"
   },
   {
    "duration": 27,
    "start_time": "2024-12-12T14:15:24.278Z"
   },
   {
    "duration": 94,
    "start_time": "2024-12-12T14:15:24.307Z"
   },
   {
    "duration": 84,
    "start_time": "2024-12-12T14:15:24.403Z"
   },
   {
    "duration": 71,
    "start_time": "2024-12-12T14:15:24.488Z"
   },
   {
    "duration": 45,
    "start_time": "2024-12-12T14:15:24.561Z"
   },
   {
    "duration": 25,
    "start_time": "2024-12-12T14:15:24.607Z"
   },
   {
    "duration": 45,
    "start_time": "2024-12-12T14:15:24.633Z"
   },
   {
    "duration": 21,
    "start_time": "2024-12-12T14:15:24.679Z"
   },
   {
    "duration": 40,
    "start_time": "2024-12-12T14:15:24.703Z"
   },
   {
    "duration": 3,
    "start_time": "2024-12-12T14:15:24.745Z"
   },
   {
    "duration": 32,
    "start_time": "2024-12-12T14:15:24.750Z"
   },
   {
    "duration": 16,
    "start_time": "2024-12-12T14:15:24.783Z"
   },
   {
    "duration": 33,
    "start_time": "2024-12-12T14:15:24.801Z"
   },
   {
    "duration": 16,
    "start_time": "2024-12-12T14:15:24.835Z"
   },
   {
    "duration": 24,
    "start_time": "2024-12-12T14:15:24.852Z"
   },
   {
    "duration": 24,
    "start_time": "2024-12-12T14:15:24.878Z"
   },
   {
    "duration": 9,
    "start_time": "2024-12-12T14:15:24.904Z"
   },
   {
    "duration": 13,
    "start_time": "2024-12-12T14:15:24.929Z"
   },
   {
    "duration": 14,
    "start_time": "2024-12-12T14:15:24.944Z"
   },
   {
    "duration": 4,
    "start_time": "2024-12-12T14:15:24.960Z"
   },
   {
    "duration": 26,
    "start_time": "2024-12-12T14:15:24.966Z"
   },
   {
    "duration": 52,
    "start_time": "2024-12-12T14:15:24.994Z"
   },
   {
    "duration": 36,
    "start_time": "2024-12-12T14:15:25.047Z"
   },
   {
    "duration": 15,
    "start_time": "2024-12-12T14:15:25.084Z"
   },
   {
    "duration": 14,
    "start_time": "2024-12-12T14:15:25.101Z"
   },
   {
    "duration": 6,
    "start_time": "2024-12-12T14:15:25.117Z"
   },
   {
    "duration": 17,
    "start_time": "2024-12-12T14:15:25.125Z"
   },
   {
    "duration": 29,
    "start_time": "2024-12-12T14:15:25.144Z"
   }
  ],
  "celltoolbar": "Отсутствует",
  "colab": {
   "collapsed_sections": [
    "E0vqbgi9ay0H",
    "VUC88oWjTJw2"
   ],
   "provenance": []
  },
  "kernelspec": {
   "display_name": "Python 3 (ipykernel)",
   "language": "python",
   "name": "python3"
  },
  "language_info": {
   "codemirror_mode": {
    "name": "ipython",
    "version": 3
   },
   "file_extension": ".py",
   "mimetype": "text/x-python",
   "name": "python",
   "nbconvert_exporter": "python",
   "pygments_lexer": "ipython3",
   "version": "3.11.7"
  },
  "toc": {
   "base_numbering": 1,
   "nav_menu": {
    "height": "215px",
    "width": "403px"
   },
   "number_sections": true,
   "sideBar": true,
   "skip_h1_title": true,
   "title_cell": "Table of Contents",
   "title_sidebar": "Contents",
   "toc_cell": false,
   "toc_position": {
    "height": "calc(100% - 180px)",
    "left": "10px",
    "top": "150px",
    "width": "285.825px"
   },
   "toc_section_display": true,
   "toc_window_display": false
  }
 },
 "nbformat": 4,
 "nbformat_minor": 4
}
